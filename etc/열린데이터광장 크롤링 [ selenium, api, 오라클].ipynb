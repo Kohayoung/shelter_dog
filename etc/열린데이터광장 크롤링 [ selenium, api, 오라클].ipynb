{
 "cells": [
  {
   "cell_type": "code",
   "execution_count": null,
   "metadata": {},
   "outputs": [],
   "source": [
    "1. json, oracle 데이터 주고받는 형식\n",
    "1-1. 오라클에 json으로 데이터 값 직접적으로 전달\n",
    "2. api 항목 정리"
   ]
  },
  {
   "cell_type": "code",
   "execution_count": 31,
   "metadata": {},
   "outputs": [],
   "source": [
    "from selenium import webdriver\n",
    "import requests"
   ]
  },
  {
   "cell_type": "code",
   "execution_count": 32,
   "metadata": {},
   "outputs": [],
   "source": [
    "url = \"http://data.seoul.go.kr/\""
   ]
  },
  {
   "cell_type": "code",
   "execution_count": 33,
   "metadata": {},
   "outputs": [],
   "source": [
    "driver = webdriver.Chrome(executable_path = \"chromedriver.exe\")"
   ]
  },
  {
   "cell_type": "code",
   "execution_count": 34,
   "metadata": {},
   "outputs": [],
   "source": [
    "driver.get(url)"
   ]
  },
  {
   "cell_type": "code",
   "execution_count": 35,
   "metadata": {},
   "outputs": [
    {
     "data": {
      "text/plain": [
       "<Response [200]>"
      ]
     },
     "execution_count": 35,
     "metadata": {},
     "output_type": "execute_result"
    }
   ],
   "source": [
    "source = requests.get(url)\n",
    "source"
   ]
  },
  {
   "cell_type": "code",
   "execution_count": 50,
   "metadata": {},
   "outputs": [],
   "source": [
    "driver.find_element_by_css_selector('span.nav-search input').click()"
   ]
  },
  {
   "cell_type": "code",
   "execution_count": 51,
   "metadata": {},
   "outputs": [],
   "source": [
    "input_element = driver.find_element_by_id('query')"
   ]
  },
  {
   "cell_type": "code",
   "execution_count": 52,
   "metadata": {},
   "outputs": [],
   "source": [
    "input_element.clear()\n",
    "input_element.send_keys(\"서울시 유기동물보호 현황 통계\")\n",
    "#driver.find_element_by_css_selector('button.btn_srch').click()\n",
    "#driver.find_element_by_css_selector('input#query').click()\n",
    "input_element.submit()"
   ]
  },
  {
   "cell_type": "code",
   "execution_count": 71,
   "metadata": {},
   "outputs": [],
   "source": [
    "list = driver.find_elements_by_css_selector('.In_Ico a')\n",
    "#a_ele = list.find_elements_by_tag_name('a')"
   ]
  },
  {
   "cell_type": "code",
   "execution_count": 75,
   "metadata": {},
   "outputs": [],
   "source": [
    "list_2 = [a.text for a in list]\n",
    "list[2].click()"
   ]
  },
  {
   "cell_type": "code",
   "execution_count": 86,
   "metadata": {},
   "outputs": [],
   "source": [
    "url_target1 = driver.find_element_by_css_selector('.subjects3 a').text\n",
    "#a_ele = list.find_elements_by_tag_name('a')"
   ]
  },
  {
   "cell_type": "code",
   "execution_count": 84,
   "metadata": {},
   "outputs": [
    {
     "data": {
      "text/plain": [
       "'369'"
      ]
     },
     "execution_count": 84,
     "metadata": {},
     "output_type": "execute_result"
    }
   ],
   "source": [
    "url_target.split(\"/\")[-4].replace(\"octastatapi\",\"\")"
   ]
  },
  {
   "cell_type": "code",
   "execution_count": 89,
   "metadata": {},
   "outputs": [],
   "source": [
    "def changeURL(url_target):\n",
    "    \n",
    "    tid = url_target.split(\"/\")[-4].replace(\"octastatapi\",\"\")\n",
    "    ckey = \"72655166576672653130345a61476c4d\"\n",
    "    url = \"http://openapi.seoul.go.kr:8088/\"+ckey+\"/json/octastatapi\"+tid+\"/1/26/\"\n",
    "    return url"
   ]
  },
  {
   "cell_type": "code",
   "execution_count": 90,
   "metadata": {},
   "outputs": [
    {
     "data": {
      "text/plain": [
       "'http://openapi.seoul.go.kr:8088/72655166576672653130345a61476c4d/json/octastatapi369/1/26/'"
      ]
     },
     "execution_count": 90,
     "metadata": {},
     "output_type": "execute_result"
    }
   ],
   "source": [
    "changeURL(url_target1)"
   ]
  },
  {
   "cell_type": "code",
   "execution_count": 91,
   "metadata": {},
   "outputs": [],
   "source": [
    "result = requests.get(changeURL(url_target1))"
   ]
  },
  {
   "cell_type": "code",
   "execution_count": 139,
   "metadata": {},
   "outputs": [],
   "source": [
    "information = result.json()"
   ]
  },
  {
   "cell_type": "code",
   "execution_count": 121,
   "metadata": {},
   "outputs": [
    {
     "data": {
      "text/plain": [
       "26"
      ]
     },
     "execution_count": 121,
     "metadata": {},
     "output_type": "execute_result"
    }
   ],
   "source": [
    "len(information['octastatapi369']['row'])"
   ]
  },
  {
   "cell_type": "code",
   "execution_count": 140,
   "metadata": {},
   "outputs": [],
   "source": [
    "#information['octastatapi369']['row']"
   ]
  },
  {
   "cell_type": "code",
   "execution_count": 151,
   "metadata": {},
   "outputs": [],
   "source": [
    "import time\n",
    "import cx_Oracle\n",
    "import os\n",
    "import json"
   ]
  },
  {
   "cell_type": "code",
   "execution_count": 142,
   "metadata": {},
   "outputs": [],
   "source": [
    "os.putenv(\"NLS_LANG\", \".UTF8\")\n",
    "\n",
    "connection = cx_Oracle.connect('hr','hr','192.168.99.100/xe')\n",
    "cursor = connection.cursor()"
   ]
  },
  {
   "cell_type": "code",
   "execution_count": 162,
   "metadata": {
    "scrolled": true
   },
   "outputs": [
    {
     "name": "stdout",
     "output_type": "stream",
     "text": [
      "insert into shelter_dog values('합계','8648','5874','2203','1589','2047','35','2434','70','683','683','30','340','22','237','72','9','2016',nseq.nextval)\n",
      "insert into shelter_dog values('종로구','242','165','47','26','92','0','72','1','6','6','0','5','0','4','1','0','2016',nseq.nextval)\n",
      "insert into shelter_dog values('중구','159','85','27','21','37','0','65','0','5','5','0','9','1','8','0','0','2016',nseq.nextval)\n",
      "insert into shelter_dog values('용산구','482','252','138','97','16','1','216','3','116','116','4','14','0','3','10','1','2016',nseq.nextval)\n",
      "insert into shelter_dog values('성동구','231','161','67','29','65','0','52','0','9','9','0','18','0','17','1','0','2016',nseq.nextval)\n",
      "insert into shelter_dog values('광진구','296','199','84','49','65','1','89','1','7','7','1','8','0','7','1','0','2016',nseq.nextval)\n",
      "insert into shelter_dog values('동대문구','363','266','75','57','132','2','90','1','17','17','0','7','1','6','0','0','2016',nseq.nextval)\n",
      "insert into shelter_dog values('중랑구','394','310','106','78','124','2','71','1','12','12','0','13','0','11','2','0','2016',nseq.nextval)\n",
      "insert into shelter_dog values('성북구','376','277','95','57','124','1','85','1','15','15','0','14','1','10','3','0','2016',nseq.nextval)\n",
      "insert into shelter_dog values('강북구','355','280','91','62','127','0','68','2','14','14','0','7','0','7','0','0','2016',nseq.nextval)\n",
      "insert into shelter_dog values('도봉구','315','212','71','59','80','2','89','1','14','14','0','14','0','11','3','0','2016',nseq.nextval)\n",
      "insert into shelter_dog values('노원구','330','251','101','60','88','2','64','1','11','11','0','15','2','10','3','0','2016',nseq.nextval)\n",
      "insert into shelter_dog values('은평구','449','308','99','53','151','5','124','3','12','12','0','17','0','15','2','0','2016',nseq.nextval)\n",
      "insert into shelter_dog values('서대문구','331','198','69','38','91','0','117','2','16','16','0','16','1','12','3','0','2016',nseq.nextval)\n",
      "insert into shelter_dog values('마포구','600','240','118','90','20','12','338','11','145','145','21','22','0','7','10','5','2016',nseq.nextval)\n",
      "insert into shelter_dog values('양천구','425','306','148','78','80','0','109','11','31','31','0','10','1','3','6','0','2016',nseq.nextval)\n",
      "insert into shelter_dog values('강서구','394','288','105','65','117','1','89','6','14','14','0','17','3','12','2','0','2016',nseq.nextval)\n",
      "insert into shelter_dog values('구로구','210','163','51','37','74','1','35','0','5','5','0','12','3','8','1','0','2016',nseq.nextval)\n",
      "insert into shelter_dog values('금천구','216','164','45','50','67','2','44','1','3','3','0','8','0','8','0','0','2016',nseq.nextval)\n",
      "insert into shelter_dog values('영등포구','279','175','57','44','74','0','94','0','26','26','0','10','0','9','1','0','2016',nseq.nextval)\n",
      "insert into shelter_dog values('동작구','335','277','146','51','80','0','31','1','17','17','0','27','0','9','17','1','2016',nseq.nextval)\n",
      "insert into shelter_dog values('관악구','814','550','205','318','27','0','237','17','137','137','0','27','4','21','1','1','2016',nseq.nextval)\n",
      "insert into shelter_dog values('서초구','178','113','42','27','43','1','56','2','7','7','1','9','0','8','0','1','2016',nseq.nextval)\n",
      "insert into shelter_dog values('강남구','240','166','65','47','53','1','63','2','8','8','0','11','0','10','1','0','2016',nseq.nextval)\n",
      "insert into shelter_dog values('송파구','337','242','76','48','117','1','79','1','7','7','0','16','2','11','3','0','2016',nseq.nextval)\n",
      "insert into shelter_dog values('강동구','297','226','75','48','103','0','57','1','29','29','3','14','3','10','1','0','2016',nseq.nextval)\n"
     ]
    }
   ],
   "source": [
    "\n",
    "for item in information['octastatapi369']['row']:\n",
    "    \n",
    "    item = json.loads(json.dumps(item).replace(\"-\",\"0\"))\n",
    "    \n",
    "    GIGAN=item['GIGAN'].replace(\"'\",\"&quot;\")\n",
    "    JACHIGU=item['JACHIGU'].replace(\"'\",\"&quot;\")\n",
    "    HAPGYE=int(item['HAPGYE'])\n",
    "            \n",
    "    GYE_1=int(item['GYE_1'])\n",
    "    INDOJUIN_1=int(item['INDOJUIN_1'])\n",
    "    IBYANGBUNYANG_1=int(item['IBYANGBUNYANG_1'])\n",
    "    PYESAALLAKSA_1=int(item['PYESAALLAKSA_1'])\n",
    "    GYERYUGIJEUNG_1=int(item['GYERYUGIJEUNG_1'])\n",
    "                \n",
    "    GYE_2=int(item['GYE_2'])\n",
    "    INDOJUIN_2=int(item['INDOJUIN_2'])\n",
    "    IBYANGBUNYANG_2=int(item['IBYANGBUNYANG_2'])\n",
    "    PYESAALLAKSA_2=int(item['IBYANGBUNYANG_2'])\n",
    "    GYERYUGIJEUNG_2=int(item['GYERYUGIJEUNG_2'])\n",
    "            \n",
    "    GYE_3=int(item['GYE_3'])\n",
    "    INDOJUIN_3=int(item['INDOJUIN_3'])\n",
    "    IBYANGBUNYANG_3=int(item['IBYANGBUNYANG_3'])\n",
    "    PYESAALLAKSA_3=int(item['PYESAALLAKSA_3'])\n",
    "    GYERYUGIJEUNG_3=int(item['GYERYUGIJEUNG_3'])\n",
    "\n",
    "\n",
    "    insert_sql = \"insert into shelter_dog values('{}','{}','{}','{}','{}','{}','{}','{}','{}','{}','{}','{}','{}','{}','{}','{}','{}','{}',nseq.nextval)\"\\\n",
    "                    .format(JACHIGU,HAPGYE,GYE_1,INDOJUIN_1,IBYANGBUNYANG_1,PYESAALLAKSA_1,GYERYUGIJEUNG_1,\\\n",
    "                     GYE_2,INDOJUIN_2, IBYANGBUNYANG_2, PYESAALLAKSA_2, GYERYUGIJEUNG_2, \\\n",
    "                     GYE_3 , INDOJUIN_3, IBYANGBUNYANG_3 , PYESAALLAKSA_3, GYERYUGIJEUNG_3, GIGAN )\n",
    "    print(insert_sql)   \n",
    "\n",
    "    cursor.execute(insert_sql)\n",
    "    connection.commit()"
   ]
  },
  {
   "cell_type": "code",
   "execution_count": null,
   "metadata": {},
   "outputs": [],
   "source": []
  }
 ],
 "metadata": {
  "kernelspec": {
   "display_name": "Python 3",
   "language": "python",
   "name": "python3"
  },
  "language_info": {
   "codemirror_mode": {
    "name": "ipython",
    "version": 3
   },
   "file_extension": ".py",
   "mimetype": "text/x-python",
   "name": "python",
   "nbconvert_exporter": "python",
   "pygments_lexer": "ipython3",
   "version": "3.7.4"
  }
 },
 "nbformat": 4,
 "nbformat_minor": 2
}
