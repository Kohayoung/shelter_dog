{
 "cells": [
  {
   "cell_type": "code",
   "execution_count": 99,
   "metadata": {
    "scrolled": true
   },
   "outputs": [],
   "source": [
    "#%matplotlib inline\n",
    "import pandas as pd\n",
    "import matplotlib as mpl\n",
    "import matplotlib.pyplot as plt\n",
    "\n",
    "#파일 저장\n",
    "import os"
   ]
  },
  {
   "cell_type": "code",
   "execution_count": 128,
   "metadata": {},
   "outputs": [
    {
     "data": {
      "text/html": [
       "<div>\n",
       "<style scoped>\n",
       "    .dataframe tbody tr th:only-of-type {\n",
       "        vertical-align: middle;\n",
       "    }\n",
       "\n",
       "    .dataframe tbody tr th {\n",
       "        vertical-align: top;\n",
       "    }\n",
       "\n",
       "    .dataframe thead th {\n",
       "        text-align: right;\n",
       "    }\n",
       "</style>\n",
       "<table border=\"1\" class=\"dataframe\">\n",
       "  <thead>\n",
       "    <tr style=\"text-align: right;\">\n",
       "      <th></th>\n",
       "      <th>년도</th>\n",
       "      <th>자치구</th>\n",
       "      <th>사람 수</th>\n",
       "      <th>유기견수</th>\n",
       "    </tr>\n",
       "  </thead>\n",
       "  <tbody>\n",
       "    <tr>\n",
       "      <td>1</td>\n",
       "      <td>2005</td>\n",
       "      <td>종로구</td>\n",
       "      <td>169315</td>\n",
       "      <td>258</td>\n",
       "    </tr>\n",
       "    <tr>\n",
       "      <td>2</td>\n",
       "      <td>2005</td>\n",
       "      <td>중구</td>\n",
       "      <td>130027</td>\n",
       "      <td>264</td>\n",
       "    </tr>\n",
       "    <tr>\n",
       "      <td>3</td>\n",
       "      <td>2005</td>\n",
       "      <td>용산구</td>\n",
       "      <td>230260</td>\n",
       "      <td>383</td>\n",
       "    </tr>\n",
       "    <tr>\n",
       "      <td>4</td>\n",
       "      <td>2005</td>\n",
       "      <td>성동구</td>\n",
       "      <td>337744</td>\n",
       "      <td>431</td>\n",
       "    </tr>\n",
       "    <tr>\n",
       "      <td>5</td>\n",
       "      <td>2005</td>\n",
       "      <td>광진구</td>\n",
       "      <td>375613</td>\n",
       "      <td>788</td>\n",
       "    </tr>\n",
       "    <tr>\n",
       "      <td>...</td>\n",
       "      <td>...</td>\n",
       "      <td>...</td>\n",
       "      <td>...</td>\n",
       "      <td>...</td>\n",
       "    </tr>\n",
       "    <tr>\n",
       "      <td>359</td>\n",
       "      <td>2018</td>\n",
       "      <td>관악구</td>\n",
       "      <td>501957</td>\n",
       "      <td>493</td>\n",
       "    </tr>\n",
       "    <tr>\n",
       "      <td>360</td>\n",
       "      <td>2018</td>\n",
       "      <td>서초구</td>\n",
       "      <td>433951</td>\n",
       "      <td>124</td>\n",
       "    </tr>\n",
       "    <tr>\n",
       "      <td>361</td>\n",
       "      <td>2018</td>\n",
       "      <td>강남구</td>\n",
       "      <td>542364</td>\n",
       "      <td>158</td>\n",
       "    </tr>\n",
       "    <tr>\n",
       "      <td>362</td>\n",
       "      <td>2018</td>\n",
       "      <td>송파구</td>\n",
       "      <td>666635</td>\n",
       "      <td>211</td>\n",
       "    </tr>\n",
       "    <tr>\n",
       "      <td>363</td>\n",
       "      <td>2018</td>\n",
       "      <td>강동구</td>\n",
       "      <td>427573</td>\n",
       "      <td>291</td>\n",
       "    </tr>\n",
       "  </tbody>\n",
       "</table>\n",
       "<p>350 rows × 4 columns</p>\n",
       "</div>"
      ],
      "text/plain": [
       "       년도  자치구    사람 수  유기견수\n",
       "1    2005  종로구  169315   258\n",
       "2    2005   중구  130027   264\n",
       "3    2005  용산구  230260   383\n",
       "4    2005  성동구  337744   431\n",
       "5    2005  광진구  375613   788\n",
       "..    ...  ...     ...   ...\n",
       "359  2018  관악구  501957   493\n",
       "360  2018  서초구  433951   124\n",
       "361  2018  강남구  542364   158\n",
       "362  2018  송파구  666635   211\n",
       "363  2018  강동구  427573   291\n",
       "\n",
       "[350 rows x 4 columns]"
      ]
     },
     "execution_count": 128,
     "metadata": {},
     "output_type": "execute_result"
    }
   ],
   "source": [
    "#csv데이터 불러와 초기화\n",
    "df = pd.read_csv('merged_data/result_total.csv',  header=1, encoding='euc-kr' )\n",
    "\n",
    "#전체 표에서 년도, 자치구, 사람수, 유기견수만 추출\n",
    "df = df.iloc[:, [0,1,2,5]]\n",
    "\n",
    "#추출된 데이터프레임에서 합계 행(서울시 전체 값) 제거\n",
    "df = df[df['자치구']!='합계']\n",
    "df"
   ]
  },
  {
   "cell_type": "code",
   "execution_count": null,
   "metadata": {},
   "outputs": [],
   "source": []
  },
  {
   "cell_type": "markdown",
   "metadata": {},
   "source": [
    "## 2016년도 최소, 최대 구 추출 및 평균 유기견 수 "
   ]
  },
  {
   "cell_type": "code",
   "execution_count": 119,
   "metadata": {},
   "outputs": [
    {
     "data": {
      "text/html": [
       "<div>\n",
       "<style scoped>\n",
       "    .dataframe tbody tr th:only-of-type {\n",
       "        vertical-align: middle;\n",
       "    }\n",
       "\n",
       "    .dataframe tbody tr th {\n",
       "        vertical-align: top;\n",
       "    }\n",
       "\n",
       "    .dataframe thead th {\n",
       "        text-align: right;\n",
       "    }\n",
       "</style>\n",
       "<table border=\"1\" class=\"dataframe\">\n",
       "  <thead>\n",
       "    <tr style=\"text-align: right;\">\n",
       "      <th></th>\n",
       "      <th>년도</th>\n",
       "      <th>자치구</th>\n",
       "      <th>사람 수</th>\n",
       "      <th>유기견수</th>\n",
       "    </tr>\n",
       "  </thead>\n",
       "  <tbody>\n",
       "    <tr>\n",
       "      <td>288</td>\n",
       "      <td>2016</td>\n",
       "      <td>중구</td>\n",
       "      <td>125249</td>\n",
       "      <td>85</td>\n",
       "    </tr>\n",
       "  </tbody>\n",
       "</table>\n",
       "</div>"
      ],
      "text/plain": [
       "       년도 자치구    사람 수  유기견수\n",
       "288  2016  중구  125249    85"
      ]
     },
     "execution_count": 119,
     "metadata": {},
     "output_type": "execute_result"
    }
   ],
   "source": [
    "#가장 낮은 유기견 수를 가진 구 추출 : 중구\n",
    "df = df[df['년도'] == 2016]\n",
    "df[df['유기견수'] == min(df['유기견수'])]"
   ]
  },
  {
   "cell_type": "code",
   "execution_count": 120,
   "metadata": {},
   "outputs": [
    {
     "data": {
      "text/html": [
       "<div>\n",
       "<style scoped>\n",
       "    .dataframe tbody tr th:only-of-type {\n",
       "        vertical-align: middle;\n",
       "    }\n",
       "\n",
       "    .dataframe tbody tr th {\n",
       "        vertical-align: top;\n",
       "    }\n",
       "\n",
       "    .dataframe thead th {\n",
       "        text-align: right;\n",
       "    }\n",
       "</style>\n",
       "<table border=\"1\" class=\"dataframe\">\n",
       "  <thead>\n",
       "    <tr style=\"text-align: right;\">\n",
       "      <th></th>\n",
       "      <th>년도</th>\n",
       "      <th>자치구</th>\n",
       "      <th>사람 수</th>\n",
       "      <th>유기견수</th>\n",
       "    </tr>\n",
       "  </thead>\n",
       "  <tbody>\n",
       "    <tr>\n",
       "      <td>307</td>\n",
       "      <td>2016</td>\n",
       "      <td>관악구</td>\n",
       "      <td>506851</td>\n",
       "      <td>550</td>\n",
       "    </tr>\n",
       "  </tbody>\n",
       "</table>\n",
       "</div>"
      ],
      "text/plain": [
       "       년도  자치구    사람 수  유기견수\n",
       "307  2016  관악구  506851   550"
      ]
     },
     "execution_count": 120,
     "metadata": {},
     "output_type": "execute_result"
    }
   ],
   "source": [
    "#가장 높은 유기견 수를 가진 구 추출 : 관악구\n",
    "df = df[df['년도'] == 2016]\n",
    "df[df['유기견수'] == max(df['유기견수'])]"
   ]
  },
  {
   "cell_type": "code",
   "execution_count": 125,
   "metadata": {},
   "outputs": [
    {
     "data": {
      "text/plain": [
       "234.88"
      ]
     },
     "execution_count": 125,
     "metadata": {},
     "output_type": "execute_result"
    }
   ],
   "source": [
    "#유기견 수의 평균\n",
    "df = df[df['년도'] == 2016]\n",
    "\n",
    "avg = df['유기견수'].mean()\n",
    "avg"
   ]
  },
  {
   "cell_type": "markdown",
   "metadata": {},
   "source": [
    "### 2016년도 \n",
    "min : 중구 / 85 마리 <br>\n",
    "max : 관악구  /  550 마리 <br>\n",
    "구 평균 유기견 수 : 234.88 마리"
   ]
  },
  {
   "cell_type": "markdown",
   "metadata": {},
   "source": [
    "## 2017년도 최소, 최대 구 추출 및 평균 유기견 수"
   ]
  },
  {
   "cell_type": "code",
   "execution_count": 129,
   "metadata": {},
   "outputs": [
    {
     "data": {
      "text/html": [
       "<div>\n",
       "<style scoped>\n",
       "    .dataframe tbody tr th:only-of-type {\n",
       "        vertical-align: middle;\n",
       "    }\n",
       "\n",
       "    .dataframe tbody tr th {\n",
       "        vertical-align: top;\n",
       "    }\n",
       "\n",
       "    .dataframe thead th {\n",
       "        text-align: right;\n",
       "    }\n",
       "</style>\n",
       "<table border=\"1\" class=\"dataframe\">\n",
       "  <thead>\n",
       "    <tr style=\"text-align: right;\">\n",
       "      <th></th>\n",
       "      <th>년도</th>\n",
       "      <th>자치구</th>\n",
       "      <th>사람 수</th>\n",
       "      <th>유기견수</th>\n",
       "    </tr>\n",
       "  </thead>\n",
       "  <tbody>\n",
       "    <tr>\n",
       "      <td>314</td>\n",
       "      <td>2017</td>\n",
       "      <td>중구</td>\n",
       "      <td>125709</td>\n",
       "      <td>99</td>\n",
       "    </tr>\n",
       "  </tbody>\n",
       "</table>\n",
       "</div>"
      ],
      "text/plain": [
       "       년도 자치구    사람 수  유기견수\n",
       "314  2017  중구  125709    99"
      ]
     },
     "execution_count": 129,
     "metadata": {},
     "output_type": "execute_result"
    }
   ],
   "source": [
    "df = df[df['년도'] == 2017]\n",
    "df[df['유기견수'] == min(df['유기견수'])]"
   ]
  },
  {
   "cell_type": "code",
   "execution_count": 130,
   "metadata": {},
   "outputs": [
    {
     "data": {
      "text/html": [
       "<div>\n",
       "<style scoped>\n",
       "    .dataframe tbody tr th:only-of-type {\n",
       "        vertical-align: middle;\n",
       "    }\n",
       "\n",
       "    .dataframe tbody tr th {\n",
       "        vertical-align: top;\n",
       "    }\n",
       "\n",
       "    .dataframe thead th {\n",
       "        text-align: right;\n",
       "    }\n",
       "</style>\n",
       "<table border=\"1\" class=\"dataframe\">\n",
       "  <thead>\n",
       "    <tr style=\"text-align: right;\">\n",
       "      <th></th>\n",
       "      <th>년도</th>\n",
       "      <th>자치구</th>\n",
       "      <th>사람 수</th>\n",
       "      <th>유기견수</th>\n",
       "    </tr>\n",
       "  </thead>\n",
       "  <tbody>\n",
       "    <tr>\n",
       "      <td>333</td>\n",
       "      <td>2017</td>\n",
       "      <td>관악구</td>\n",
       "      <td>503297</td>\n",
       "      <td>450</td>\n",
       "    </tr>\n",
       "  </tbody>\n",
       "</table>\n",
       "</div>"
      ],
      "text/plain": [
       "       년도  자치구    사람 수  유기견수\n",
       "333  2017  관악구  503297   450"
      ]
     },
     "execution_count": 130,
     "metadata": {},
     "output_type": "execute_result"
    }
   ],
   "source": [
    "df = df[df['년도'] == 2017]\n",
    "df[df['유기견수'] == max(df['유기견수'])]"
   ]
  },
  {
   "cell_type": "code",
   "execution_count": 131,
   "metadata": {},
   "outputs": [
    {
     "data": {
      "text/plain": [
       "223.36"
      ]
     },
     "execution_count": 131,
     "metadata": {},
     "output_type": "execute_result"
    }
   ],
   "source": [
    "#유기견 수의 평균\n",
    "df = df[df['년도'] == 2017]\n",
    "\n",
    "avg = df['유기견수'].mean()\n",
    "avg"
   ]
  },
  {
   "cell_type": "markdown",
   "metadata": {},
   "source": [
    "### 2017년도 \n",
    "min : 중구 / 99 마리 <br>\n",
    "max : 관악구  /  450 마리 <br>\n",
    "구 평균 유기견 수 : 223.36 마리"
   ]
  },
  {
   "cell_type": "markdown",
   "metadata": {},
   "source": [
    "## 2016년도 중구 vs 관악구를 조사한다"
   ]
  },
  {
   "cell_type": "code",
   "execution_count": 143,
   "metadata": {},
   "outputs": [
    {
     "data": {
      "text/html": [
       "<div>\n",
       "<style scoped>\n",
       "    .dataframe tbody tr th:only-of-type {\n",
       "        vertical-align: middle;\n",
       "    }\n",
       "\n",
       "    .dataframe tbody tr th {\n",
       "        vertical-align: top;\n",
       "    }\n",
       "\n",
       "    .dataframe thead th {\n",
       "        text-align: right;\n",
       "    }\n",
       "</style>\n",
       "<table border=\"1\" class=\"dataframe\">\n",
       "  <thead>\n",
       "    <tr style=\"text-align: right;\">\n",
       "      <th></th>\n",
       "      <th>년도</th>\n",
       "      <th>자치구</th>\n",
       "      <th>사람 수</th>\n",
       "      <th>남자수</th>\n",
       "      <th>여자수</th>\n",
       "      <th>유기견수</th>\n",
       "      <th>복귀</th>\n",
       "      <th>입양분양</th>\n",
       "      <th>폐사안락사</th>\n",
       "      <th>계류기증</th>\n",
       "      <th>...</th>\n",
       "      <th>비거주용 건물내 주택_여</th>\n",
       "      <th>주택이외의 거처_남</th>\n",
       "      <th>주택이외의 거처_여</th>\n",
       "      <th>20세미만</th>\n",
       "      <th>20대</th>\n",
       "      <th>30대</th>\n",
       "      <th>40대</th>\n",
       "      <th>50대</th>\n",
       "      <th>60대</th>\n",
       "      <th>70대이상</th>\n",
       "    </tr>\n",
       "  </thead>\n",
       "  <tbody>\n",
       "    <tr>\n",
       "      <td>288</td>\n",
       "      <td>2016</td>\n",
       "      <td>중구</td>\n",
       "      <td>125249</td>\n",
       "      <td>62204</td>\n",
       "      <td>63045</td>\n",
       "      <td>85</td>\n",
       "      <td>27</td>\n",
       "      <td>21</td>\n",
       "      <td>37</td>\n",
       "      <td>-</td>\n",
       "      <td>...</td>\n",
       "      <td>339.0</td>\n",
       "      <td>2109.0</td>\n",
       "      <td>1529.0</td>\n",
       "      <td>567.0</td>\n",
       "      <td>4582.0</td>\n",
       "      <td>3735.0</td>\n",
       "      <td>3036.0</td>\n",
       "      <td>2873.0</td>\n",
       "      <td>2348.0</td>\n",
       "      <td>2530.0</td>\n",
       "    </tr>\n",
       "  </tbody>\n",
       "</table>\n",
       "<p>1 rows × 77 columns</p>\n",
       "</div>"
      ],
      "text/plain": [
       "       년도 자치구    사람 수    남자수    여자수  유기견수  복귀  입양분양  폐사안락사 계류기증  ...  \\\n",
       "288  2016  중구  125249  62204  63045    85  27    21     37    -  ...   \n",
       "\n",
       "    비거주용 건물내 주택_여 주택이외의 거처_남 주택이외의 거처_여  20세미만     20대     30대     40대  \\\n",
       "288         339.0     2109.0     1529.0  567.0  4582.0  3735.0  3036.0   \n",
       "\n",
       "        50대     60대   70대이상  \n",
       "288  2873.0  2348.0  2530.0  \n",
       "\n",
       "[1 rows x 77 columns]"
      ]
     },
     "execution_count": 143,
     "metadata": {},
     "output_type": "execute_result"
    }
   ],
   "source": [
    "#중구\n",
    "#csv데이터 불러와 초기화\n",
    "df = pd.read_csv('merged_data/result_total.csv',  header=1, encoding='euc-kr' )\n",
    "df1 = df[df['년도']== 2016]\n",
    "df1 = df1[df1['자치구']=='중구']\n",
    "\n",
    "\n",
    "#전체 표에서 년도, 자치구, 사람수, 유기견수만 추출\n",
    "#df = df.iloc[:, [0,1,2,5]]\n",
    "\n",
    "#추출된 데이터프레임에서 합계 행(서울시 전체 값) 제거\n",
    "#df = df[df['자치구']!='합계']\n",
    "df1"
   ]
  },
  {
   "cell_type": "code",
   "execution_count": 145,
   "metadata": {},
   "outputs": [
    {
     "data": {
      "text/html": [
       "<div>\n",
       "<style scoped>\n",
       "    .dataframe tbody tr th:only-of-type {\n",
       "        vertical-align: middle;\n",
       "    }\n",
       "\n",
       "    .dataframe tbody tr th {\n",
       "        vertical-align: top;\n",
       "    }\n",
       "\n",
       "    .dataframe thead th {\n",
       "        text-align: right;\n",
       "    }\n",
       "</style>\n",
       "<table border=\"1\" class=\"dataframe\">\n",
       "  <thead>\n",
       "    <tr style=\"text-align: right;\">\n",
       "      <th></th>\n",
       "      <th>년도</th>\n",
       "      <th>자치구</th>\n",
       "      <th>사람 수</th>\n",
       "      <th>남자수</th>\n",
       "      <th>여자수</th>\n",
       "      <th>유기견수</th>\n",
       "      <th>복귀</th>\n",
       "      <th>입양분양</th>\n",
       "      <th>폐사안락사</th>\n",
       "      <th>계류기증</th>\n",
       "      <th>...</th>\n",
       "      <th>비거주용 건물내 주택_여</th>\n",
       "      <th>주택이외의 거처_남</th>\n",
       "      <th>주택이외의 거처_여</th>\n",
       "      <th>20세미만</th>\n",
       "      <th>20대</th>\n",
       "      <th>30대</th>\n",
       "      <th>40대</th>\n",
       "      <th>50대</th>\n",
       "      <th>60대</th>\n",
       "      <th>70대이상</th>\n",
       "    </tr>\n",
       "  </thead>\n",
       "  <tbody>\n",
       "    <tr>\n",
       "      <td>307</td>\n",
       "      <td>2016</td>\n",
       "      <td>관악구</td>\n",
       "      <td>506851</td>\n",
       "      <td>256143</td>\n",
       "      <td>250708</td>\n",
       "      <td>550</td>\n",
       "      <td>205</td>\n",
       "      <td>318</td>\n",
       "      <td>27</td>\n",
       "      <td>-</td>\n",
       "      <td>...</td>\n",
       "      <td>3745.0</td>\n",
       "      <td>8542.0</td>\n",
       "      <td>7459.0</td>\n",
       "      <td>1053.0</td>\n",
       "      <td>38095.0</td>\n",
       "      <td>28451.0</td>\n",
       "      <td>12792.0</td>\n",
       "      <td>9262.0</td>\n",
       "      <td>7280.0</td>\n",
       "      <td>7039.0</td>\n",
       "    </tr>\n",
       "  </tbody>\n",
       "</table>\n",
       "<p>1 rows × 77 columns</p>\n",
       "</div>"
      ],
      "text/plain": [
       "       년도  자치구    사람 수     남자수     여자수  유기견수   복귀  입양분양  폐사안락사 계류기증  ...  \\\n",
       "307  2016  관악구  506851  256143  250708   550  205   318     27    -  ...   \n",
       "\n",
       "    비거주용 건물내 주택_여 주택이외의 거처_남 주택이외의 거처_여   20세미만      20대      30대      40대  \\\n",
       "307        3745.0     8542.0     7459.0  1053.0  38095.0  28451.0  12792.0   \n",
       "\n",
       "        50대     60대   70대이상  \n",
       "307  9262.0  7280.0  7039.0  \n",
       "\n",
       "[1 rows x 77 columns]"
      ]
     },
     "execution_count": 145,
     "metadata": {},
     "output_type": "execute_result"
    }
   ],
   "source": [
    "#관악구\n",
    "#csv데이터 불러와 초기화\n",
    "df = pd.read_csv('merged_data/result_total.csv',  header=1, encoding='euc-kr' )\n",
    "df2 = df[df['년도']== 2016]\n",
    "df2 = df2[df2['자치구']=='관악구']\n",
    "\n",
    "\n",
    "#전체 표에서 년도, 자치구, 사람수, 유기견수만 추출\n",
    "#df = df.iloc[:, [0,1,2,5]]\n",
    "\n",
    "#추출된 데이터프레임에서 합계 행(서울시 전체 값) 제거\n",
    "#df = df[df['자치구']!='합계']\n",
    "df2"
   ]
  },
  {
   "cell_type": "code",
   "execution_count": 328,
   "metadata": {},
   "outputs": [],
   "source": [
    "#평균\n",
    "#csv데이터 불러와 초기화\n",
    "df = pd.read_csv('merged_data/result_total_t.csv',  header=1, encoding='euc-kr' )\n",
    "df3 = df[df['년도']== 2016]\n",
    "df3 = df3[df3['자치구']=='합계']\n",
    "\n",
    "#년도, 자치구 또다른 데이터 프레임으로 임시저장\n",
    "df_temp = df3.iloc[:,0:2]\n",
    "\n",
    "#년도, 자치구를 제외한 데이터프레임 추출\n",
    "df3 = df3.iloc[:,2:77].replace('-',0)\n",
    "df3 = round(df3.astype(float) /26 ,1)\n"
   ]
  },
  {
   "cell_type": "code",
   "execution_count": 331,
   "metadata": {},
   "outputs": [
    {
     "data": {
      "text/html": [
       "<div>\n",
       "<style scoped>\n",
       "    .dataframe tbody tr th:only-of-type {\n",
       "        vertical-align: middle;\n",
       "    }\n",
       "\n",
       "    .dataframe tbody tr th {\n",
       "        vertical-align: top;\n",
       "    }\n",
       "\n",
       "    .dataframe thead th {\n",
       "        text-align: right;\n",
       "    }\n",
       "</style>\n",
       "<table border=\"1\" class=\"dataframe\">\n",
       "  <thead>\n",
       "    <tr style=\"text-align: right;\">\n",
       "      <th></th>\n",
       "      <th>년도</th>\n",
       "      <th>자치구</th>\n",
       "      <th>년도</th>\n",
       "      <th>자치구</th>\n",
       "      <th>사람 수</th>\n",
       "      <th>남자수</th>\n",
       "      <th>여자수</th>\n",
       "      <th>유기견수</th>\n",
       "      <th>복귀</th>\n",
       "      <th>입양분양</th>\n",
       "      <th>...</th>\n",
       "      <th>비거주용 건물내 주택_여</th>\n",
       "      <th>주택이외의 거처_남</th>\n",
       "      <th>주택이외의 거처_여</th>\n",
       "      <th>20세미만</th>\n",
       "      <th>20대</th>\n",
       "      <th>30대</th>\n",
       "      <th>40대</th>\n",
       "      <th>50대</th>\n",
       "      <th>60대</th>\n",
       "      <th>70대이상</th>\n",
       "    </tr>\n",
       "  </thead>\n",
       "  <tbody>\n",
       "    <tr>\n",
       "      <td>286</td>\n",
       "      <td>2016.0</td>\n",
       "      <td>합계</td>\n",
       "      <td>2016.0</td>\n",
       "      <td>합계</td>\n",
       "      <td>381946.8</td>\n",
       "      <td>187568.8</td>\n",
       "      <td>194378.0</td>\n",
       "      <td>225.8</td>\n",
       "      <td>84.7</td>\n",
       "      <td>61.2</td>\n",
       "      <td>...</td>\n",
       "      <td>727.7</td>\n",
       "      <td>3089.8</td>\n",
       "      <td>2656.3</td>\n",
       "      <td>574.5</td>\n",
       "      <td>10407.8</td>\n",
       "      <td>9980.0</td>\n",
       "      <td>6643.8</td>\n",
       "      <td>5944.7</td>\n",
       "      <td>4943.6</td>\n",
       "      <td>5308.0</td>\n",
       "    </tr>\n",
       "  </tbody>\n",
       "</table>\n",
       "<p>1 rows × 79 columns</p>\n",
       "</div>"
      ],
      "text/plain": [
       "         년도 자치구      년도 자치구      사람 수       남자수       여자수   유기견수    복귀  입양분양  \\\n",
       "286  2016.0  합계  2016.0  합계  381946.8  187568.8  194378.0  225.8  84.7  61.2   \n",
       "\n",
       "     ...  비거주용 건물내 주택_여  주택이외의 거처_남  주택이외의 거처_여  20세미만      20대     30대  \\\n",
       "286  ...          727.7      3089.8      2656.3  574.5  10407.8  9980.0   \n",
       "\n",
       "        40대     50대     60대   70대이상  \n",
       "286  6643.8  5944.7  4943.6  5308.0  \n",
       "\n",
       "[1 rows x 79 columns]"
      ]
     },
     "execution_count": 331,
     "metadata": {},
     "output_type": "execute_result"
    }
   ],
   "source": [
    "# df_temp + df3 하여 전체구평균 데이터프레임 추출\n",
    "df3 = pd.concat([df_temp,df3], axis=1)\n",
    "df3"
   ]
  },
  {
   "cell_type": "code",
   "execution_count": 333,
   "metadata": {},
   "outputs": [
    {
     "name": "stderr",
     "output_type": "stream",
     "text": [
      "C:\\ai\\python\\anaconda3\\lib\\site-packages\\ipykernel_launcher.py:2: FutureWarning: Sorting because non-concatenation axis is not aligned. A future version\n",
      "of pandas will change to not sort by default.\n",
      "\n",
      "To accept the future behavior, pass 'sort=False'.\n",
      "\n",
      "To retain the current behavior and silence the warning, pass 'sort=True'.\n",
      "\n",
      "  \n"
     ]
    },
    {
     "ename": "ValueError",
     "evalue": "Plan shapes are not aligned",
     "output_type": "error",
     "traceback": [
      "\u001b[1;31m---------------------------------------------------------------------------\u001b[0m",
      "\u001b[1;31mValueError\u001b[0m                                Traceback (most recent call last)",
      "\u001b[1;32m<ipython-input-333-ada85fb8deee>\u001b[0m in \u001b[0;36m<module>\u001b[1;34m\u001b[0m\n\u001b[0;32m      1\u001b[0m \u001b[1;31m#2016년도 중구, 관악구, 평균 데이터프레임 병합\u001b[0m\u001b[1;33m\u001b[0m\u001b[1;33m\u001b[0m\u001b[1;33m\u001b[0m\u001b[0m\n\u001b[1;32m----> 2\u001b[1;33m \u001b[0mdf2016\u001b[0m \u001b[1;33m=\u001b[0m \u001b[0mpd\u001b[0m\u001b[1;33m.\u001b[0m\u001b[0mconcat\u001b[0m\u001b[1;33m(\u001b[0m\u001b[1;33m[\u001b[0m\u001b[0mdf1\u001b[0m\u001b[1;33m,\u001b[0m\u001b[0mdf2\u001b[0m\u001b[1;33m,\u001b[0m\u001b[0mdf3\u001b[0m\u001b[1;33m]\u001b[0m\u001b[1;33m,\u001b[0m \u001b[0mignore_index\u001b[0m \u001b[1;33m=\u001b[0m \u001b[1;32mFalse\u001b[0m\u001b[1;33m)\u001b[0m\u001b[1;33m\u001b[0m\u001b[1;33m\u001b[0m\u001b[0m\n\u001b[0m\u001b[0;32m      3\u001b[0m \u001b[0mdf2016\u001b[0m\u001b[1;33m\u001b[0m\u001b[1;33m\u001b[0m\u001b[0m\n",
      "\u001b[1;32mC:\\ai\\python\\anaconda3\\lib\\site-packages\\pandas\\core\\reshape\\concat.py\u001b[0m in \u001b[0;36mconcat\u001b[1;34m(objs, axis, join, join_axes, ignore_index, keys, levels, names, verify_integrity, sort, copy)\u001b[0m\n\u001b[0;32m    256\u001b[0m     )\n\u001b[0;32m    257\u001b[0m \u001b[1;33m\u001b[0m\u001b[0m\n\u001b[1;32m--> 258\u001b[1;33m     \u001b[1;32mreturn\u001b[0m \u001b[0mop\u001b[0m\u001b[1;33m.\u001b[0m\u001b[0mget_result\u001b[0m\u001b[1;33m(\u001b[0m\u001b[1;33m)\u001b[0m\u001b[1;33m\u001b[0m\u001b[1;33m\u001b[0m\u001b[0m\n\u001b[0m\u001b[0;32m    259\u001b[0m \u001b[1;33m\u001b[0m\u001b[0m\n\u001b[0;32m    260\u001b[0m \u001b[1;33m\u001b[0m\u001b[0m\n",
      "\u001b[1;32mC:\\ai\\python\\anaconda3\\lib\\site-packages\\pandas\\core\\reshape\\concat.py\u001b[0m in \u001b[0;36mget_result\u001b[1;34m(self)\u001b[0m\n\u001b[0;32m    471\u001b[0m \u001b[1;33m\u001b[0m\u001b[0m\n\u001b[0;32m    472\u001b[0m             new_data = concatenate_block_managers(\n\u001b[1;32m--> 473\u001b[1;33m                 \u001b[0mmgrs_indexers\u001b[0m\u001b[1;33m,\u001b[0m \u001b[0mself\u001b[0m\u001b[1;33m.\u001b[0m\u001b[0mnew_axes\u001b[0m\u001b[1;33m,\u001b[0m \u001b[0mconcat_axis\u001b[0m\u001b[1;33m=\u001b[0m\u001b[0mself\u001b[0m\u001b[1;33m.\u001b[0m\u001b[0maxis\u001b[0m\u001b[1;33m,\u001b[0m \u001b[0mcopy\u001b[0m\u001b[1;33m=\u001b[0m\u001b[0mself\u001b[0m\u001b[1;33m.\u001b[0m\u001b[0mcopy\u001b[0m\u001b[1;33m\u001b[0m\u001b[1;33m\u001b[0m\u001b[0m\n\u001b[0m\u001b[0;32m    474\u001b[0m             )\n\u001b[0;32m    475\u001b[0m             \u001b[1;32mif\u001b[0m \u001b[1;32mnot\u001b[0m \u001b[0mself\u001b[0m\u001b[1;33m.\u001b[0m\u001b[0mcopy\u001b[0m\u001b[1;33m:\u001b[0m\u001b[1;33m\u001b[0m\u001b[1;33m\u001b[0m\u001b[0m\n",
      "\u001b[1;32mC:\\ai\\python\\anaconda3\\lib\\site-packages\\pandas\\core\\internals\\managers.py\u001b[0m in \u001b[0;36mconcatenate_block_managers\u001b[1;34m(mgrs_indexers, axes, concat_axis, copy)\u001b[0m\n\u001b[0;32m   2036\u001b[0m     \u001b[0mblocks\u001b[0m \u001b[1;33m=\u001b[0m \u001b[1;33m[\u001b[0m\u001b[1;33m]\u001b[0m\u001b[1;33m\u001b[0m\u001b[1;33m\u001b[0m\u001b[0m\n\u001b[0;32m   2037\u001b[0m \u001b[1;33m\u001b[0m\u001b[0m\n\u001b[1;32m-> 2038\u001b[1;33m     \u001b[1;32mfor\u001b[0m \u001b[0mplacement\u001b[0m\u001b[1;33m,\u001b[0m \u001b[0mjoin_units\u001b[0m \u001b[1;32min\u001b[0m \u001b[0mconcat_plan\u001b[0m\u001b[1;33m:\u001b[0m\u001b[1;33m\u001b[0m\u001b[1;33m\u001b[0m\u001b[0m\n\u001b[0m\u001b[0;32m   2039\u001b[0m \u001b[1;33m\u001b[0m\u001b[0m\n\u001b[0;32m   2040\u001b[0m         \u001b[1;32mif\u001b[0m \u001b[0mlen\u001b[0m\u001b[1;33m(\u001b[0m\u001b[0mjoin_units\u001b[0m\u001b[1;33m)\u001b[0m \u001b[1;33m==\u001b[0m \u001b[1;36m1\u001b[0m \u001b[1;32mand\u001b[0m \u001b[1;32mnot\u001b[0m \u001b[0mjoin_units\u001b[0m\u001b[1;33m[\u001b[0m\u001b[1;36m0\u001b[0m\u001b[1;33m]\u001b[0m\u001b[1;33m.\u001b[0m\u001b[0mindexers\u001b[0m\u001b[1;33m:\u001b[0m\u001b[1;33m\u001b[0m\u001b[1;33m\u001b[0m\u001b[0m\n",
      "\u001b[1;32mC:\\ai\\python\\anaconda3\\lib\\site-packages\\pandas\\core\\internals\\concat.py\u001b[0m in \u001b[0;36mcombine_concat_plans\u001b[1;34m(plans, concat_axis)\u001b[0m\n\u001b[0;32m    472\u001b[0m         \u001b[1;32mwhile\u001b[0m \u001b[0mnum_ended\u001b[0m\u001b[1;33m[\u001b[0m\u001b[1;36m0\u001b[0m\u001b[1;33m]\u001b[0m \u001b[1;33m!=\u001b[0m \u001b[0mlen\u001b[0m\u001b[1;33m(\u001b[0m\u001b[0mnext_items\u001b[0m\u001b[1;33m)\u001b[0m\u001b[1;33m:\u001b[0m\u001b[1;33m\u001b[0m\u001b[1;33m\u001b[0m\u001b[0m\n\u001b[0;32m    473\u001b[0m             \u001b[1;32mif\u001b[0m \u001b[0mnum_ended\u001b[0m\u001b[1;33m[\u001b[0m\u001b[1;36m0\u001b[0m\u001b[1;33m]\u001b[0m \u001b[1;33m>\u001b[0m \u001b[1;36m0\u001b[0m\u001b[1;33m:\u001b[0m\u001b[1;33m\u001b[0m\u001b[1;33m\u001b[0m\u001b[0m\n\u001b[1;32m--> 474\u001b[1;33m                 \u001b[1;32mraise\u001b[0m \u001b[0mValueError\u001b[0m\u001b[1;33m(\u001b[0m\u001b[1;34m\"Plan shapes are not aligned\"\u001b[0m\u001b[1;33m)\u001b[0m\u001b[1;33m\u001b[0m\u001b[1;33m\u001b[0m\u001b[0m\n\u001b[0m\u001b[0;32m    475\u001b[0m \u001b[1;33m\u001b[0m\u001b[0m\n\u001b[0;32m    476\u001b[0m             \u001b[0mplacements\u001b[0m\u001b[1;33m,\u001b[0m \u001b[0munits\u001b[0m \u001b[1;33m=\u001b[0m \u001b[0mzip\u001b[0m\u001b[1;33m(\u001b[0m\u001b[1;33m*\u001b[0m\u001b[0mnext_items\u001b[0m\u001b[1;33m)\u001b[0m\u001b[1;33m\u001b[0m\u001b[1;33m\u001b[0m\u001b[0m\n",
      "\u001b[1;31mValueError\u001b[0m: Plan shapes are not aligned"
     ]
    }
   ],
   "source": [
    "#2016년도 중구, 관악구, 평균 데이터프레임 병합\n",
    "df2016 = pd.concat([df1,df2,df3], ignore_index = False)\n",
    "df2016"
   ]
  },
  {
   "cell_type": "code",
   "execution_count": 334,
   "metadata": {},
   "outputs": [],
   "source": [
    "#2016년도 df의 '합계'로우의 이름 변경\n",
    "temp_sum = df2016.iloc[2,1] \n",
    "temp_sum = '전체 구 평균'\n",
    "df2016.iloc[2,1]  = temp_sum"
   ]
  },
  {
   "cell_type": "code",
   "execution_count": 340,
   "metadata": {},
   "outputs": [
    {
     "data": {
      "text/html": [
       "<div>\n",
       "<style scoped>\n",
       "    .dataframe tbody tr th:only-of-type {\n",
       "        vertical-align: middle;\n",
       "    }\n",
       "\n",
       "    .dataframe tbody tr th {\n",
       "        vertical-align: top;\n",
       "    }\n",
       "\n",
       "    .dataframe thead th {\n",
       "        text-align: right;\n",
       "    }\n",
       "</style>\n",
       "<table border=\"1\" class=\"dataframe\">\n",
       "  <thead>\n",
       "    <tr style=\"text-align: right;\">\n",
       "      <th></th>\n",
       "      <th>년도</th>\n",
       "      <th>사람 수</th>\n",
       "      <th>남자수</th>\n",
       "      <th>여자수</th>\n",
       "      <th>유기견수</th>\n",
       "      <th>복귀</th>\n",
       "      <th>입양분양</th>\n",
       "      <th>폐사안락사</th>\n",
       "      <th>계류기증</th>\n",
       "      <th>있다</th>\n",
       "      <th>...</th>\n",
       "      <th>비거주용 건물내 주택_여</th>\n",
       "      <th>주택이외의 거처_남</th>\n",
       "      <th>주택이외의 거처_여</th>\n",
       "      <th>20세미만</th>\n",
       "      <th>20대</th>\n",
       "      <th>30대</th>\n",
       "      <th>40대</th>\n",
       "      <th>50대</th>\n",
       "      <th>60대</th>\n",
       "      <th>70대이상</th>\n",
       "    </tr>\n",
       "    <tr>\n",
       "      <th>자치구</th>\n",
       "      <th></th>\n",
       "      <th></th>\n",
       "      <th></th>\n",
       "      <th></th>\n",
       "      <th></th>\n",
       "      <th></th>\n",
       "      <th></th>\n",
       "      <th></th>\n",
       "      <th></th>\n",
       "      <th></th>\n",
       "      <th></th>\n",
       "      <th></th>\n",
       "      <th></th>\n",
       "      <th></th>\n",
       "      <th></th>\n",
       "      <th></th>\n",
       "      <th></th>\n",
       "      <th></th>\n",
       "      <th></th>\n",
       "      <th></th>\n",
       "      <th></th>\n",
       "    </tr>\n",
       "  </thead>\n",
       "  <tbody>\n",
       "    <tr>\n",
       "      <td>중구</td>\n",
       "      <td>2016.0</td>\n",
       "      <td>125249.0</td>\n",
       "      <td>62204.0</td>\n",
       "      <td>63045.0</td>\n",
       "      <td>85.0</td>\n",
       "      <td>27.0</td>\n",
       "      <td>21.0</td>\n",
       "      <td>37.0</td>\n",
       "      <td>-</td>\n",
       "      <td>23.9</td>\n",
       "      <td>...</td>\n",
       "      <td>339.0</td>\n",
       "      <td>2109.0</td>\n",
       "      <td>1529.0</td>\n",
       "      <td>567.0</td>\n",
       "      <td>4582.0</td>\n",
       "      <td>3735.0</td>\n",
       "      <td>3036.0</td>\n",
       "      <td>2873.0</td>\n",
       "      <td>2348.0</td>\n",
       "      <td>2530.0</td>\n",
       "    </tr>\n",
       "    <tr>\n",
       "      <td>관악구</td>\n",
       "      <td>2016.0</td>\n",
       "      <td>506851.0</td>\n",
       "      <td>256143.0</td>\n",
       "      <td>250708.0</td>\n",
       "      <td>550.0</td>\n",
       "      <td>205.0</td>\n",
       "      <td>318.0</td>\n",
       "      <td>27.0</td>\n",
       "      <td>-</td>\n",
       "      <td>21.1</td>\n",
       "      <td>...</td>\n",
       "      <td>3745.0</td>\n",
       "      <td>8542.0</td>\n",
       "      <td>7459.0</td>\n",
       "      <td>1053.0</td>\n",
       "      <td>38095.0</td>\n",
       "      <td>28451.0</td>\n",
       "      <td>12792.0</td>\n",
       "      <td>9262.0</td>\n",
       "      <td>7280.0</td>\n",
       "      <td>7039.0</td>\n",
       "    </tr>\n",
       "    <tr>\n",
       "      <td>전체 구 평균</td>\n",
       "      <td>2016.0</td>\n",
       "      <td>381946.8</td>\n",
       "      <td>187568.8</td>\n",
       "      <td>194378.0</td>\n",
       "      <td>225.8</td>\n",
       "      <td>84.7</td>\n",
       "      <td>61.2</td>\n",
       "      <td>78.8</td>\n",
       "      <td>1.2</td>\n",
       "      <td>0.7</td>\n",
       "      <td>...</td>\n",
       "      <td>727.7</td>\n",
       "      <td>3089.8</td>\n",
       "      <td>2656.3</td>\n",
       "      <td>574.5</td>\n",
       "      <td>10407.8</td>\n",
       "      <td>9980.0</td>\n",
       "      <td>6643.8</td>\n",
       "      <td>5944.7</td>\n",
       "      <td>4943.6</td>\n",
       "      <td>5308.0</td>\n",
       "    </tr>\n",
       "  </tbody>\n",
       "</table>\n",
       "<p>3 rows × 76 columns</p>\n",
       "</div>"
      ],
      "text/plain": [
       "             년도      사람 수       남자수       여자수   유기견수     복귀   입양분양  폐사안락사  \\\n",
       "자치구                                                                         \n",
       "중구       2016.0  125249.0   62204.0   63045.0   85.0   27.0   21.0   37.0   \n",
       "관악구      2016.0  506851.0  256143.0  250708.0  550.0  205.0  318.0   27.0   \n",
       "전체 구 평균  2016.0  381946.8  187568.8  194378.0  225.8   84.7   61.2   78.8   \n",
       "\n",
       "        계류기증    있다  ... 비거주용 건물내 주택_여 주택이외의 거처_남 주택이외의 거처_여   20세미만      20대  \\\n",
       "자치구                 ...                                                        \n",
       "중구         -  23.9  ...         339.0     2109.0     1529.0   567.0   4582.0   \n",
       "관악구        -  21.1  ...        3745.0     8542.0     7459.0  1053.0  38095.0   \n",
       "전체 구 평균  1.2   0.7  ...         727.7     3089.8     2656.3   574.5  10407.8   \n",
       "\n",
       "             30대      40대     50대     60대   70대이상  \n",
       "자치구                                                \n",
       "중구        3735.0   3036.0  2873.0  2348.0  2530.0  \n",
       "관악구      28451.0  12792.0  9262.0  7280.0  7039.0  \n",
       "전체 구 평균   9980.0   6643.8  5944.7  4943.6  5308.0  \n",
       "\n",
       "[3 rows x 76 columns]"
      ]
     },
     "execution_count": 340,
     "metadata": {},
     "output_type": "execute_result"
    }
   ],
   "source": [
    "#인덱스 정렬\n",
    "df2016 = df2016.set_index('자치구')\n",
    "df2016"
   ]
  },
  {
   "cell_type": "code",
   "execution_count": null,
   "metadata": {},
   "outputs": [],
   "source": []
  },
  {
   "cell_type": "code",
   "execution_count": null,
   "metadata": {},
   "outputs": [],
   "source": []
  },
  {
   "cell_type": "code",
   "execution_count": null,
   "metadata": {},
   "outputs": [],
   "source": []
  },
  {
   "cell_type": "code",
   "execution_count": 295,
   "metadata": {},
   "outputs": [],
   "source": [
    "import matplotlib.pyplot as plt\n",
    "import pandas as pd\n",
    "from math import pi\n",
    "\n",
    "font_name = mpl.font_manager.FontProperties(fname='C:/Windows/Fonts/malgunsl.ttf').get_name()\n",
    "mpl.rc('font', family=font_name)"
   ]
  },
  {
   "cell_type": "code",
   "execution_count": 342,
   "metadata": {},
   "outputs": [
    {
     "data": {
      "text/html": [
       "<div>\n",
       "<style scoped>\n",
       "    .dataframe tbody tr th:only-of-type {\n",
       "        vertical-align: middle;\n",
       "    }\n",
       "\n",
       "    .dataframe tbody tr th {\n",
       "        vertical-align: top;\n",
       "    }\n",
       "\n",
       "    .dataframe thead th {\n",
       "        text-align: right;\n",
       "    }\n",
       "</style>\n",
       "<table border=\"1\" class=\"dataframe\">\n",
       "  <thead>\n",
       "    <tr style=\"text-align: right;\">\n",
       "      <th></th>\n",
       "      <th>사람 수</th>\n",
       "    </tr>\n",
       "    <tr>\n",
       "      <th>자치구</th>\n",
       "      <th></th>\n",
       "    </tr>\n",
       "  </thead>\n",
       "  <tbody>\n",
       "    <tr>\n",
       "      <td>중구</td>\n",
       "      <td>125249.0</td>\n",
       "    </tr>\n",
       "    <tr>\n",
       "      <td>관악구</td>\n",
       "      <td>506851.0</td>\n",
       "    </tr>\n",
       "    <tr>\n",
       "      <td>전체 구 평균</td>\n",
       "      <td>381946.8</td>\n",
       "    </tr>\n",
       "  </tbody>\n",
       "</table>\n",
       "</div>"
      ],
      "text/plain": [
       "             사람 수\n",
       "자치구              \n",
       "중구       125249.0\n",
       "관악구      506851.0\n",
       "전체 구 평균  381946.8"
      ]
     },
     "execution_count": 342,
     "metadata": {},
     "output_type": "execute_result"
    }
   ],
   "source": [
    "#사람수 비교\n",
    "df_a = df2016.iloc[:,1:2]\n",
    "df_a"
   ]
  },
  {
   "cell_type": "code",
   "execution_count": 343,
   "metadata": {},
   "outputs": [
    {
     "data": {
      "text/plain": [
       "<matplotlib.legend.Legend at 0x167c6265408>"
      ]
     },
     "execution_count": 343,
     "metadata": {},
     "output_type": "execute_result"
    },
    {
     "data": {
      "image/png": "[encoded data removed]",
      "text/plain": [
       "<Figure size 864x432 with 1 Axes>"
      ]
     },
     "metadata": {
      "needs_background": "light"
     },
     "output_type": "display_data"
    }
   ],
   "source": [
    "#2016년 중구, 관악구, 평균 인원 수 비교 / legend 이슈\n",
    "ax = df_a.plot(kind=\"bar\", title=\"중구, 관악구, 평균 인원 수 비교\", figsize=(12,6), legend=True, fontsize=12)\n",
    "ax.set_xlabel(\"지역\", fontsize=12)\n",
    "ax.set_ylabel(\"사람수\", fontsize=12)\n",
    "ax.legend(['중구','관악구','전체 구 평균'], fontsize=12)"
   ]
  },
  {
   "cell_type": "code",
   "execution_count": null,
   "metadata": {},
   "outputs": [],
   "source": []
  },
  {
   "cell_type": "code",
   "execution_count": 350,
   "metadata": {},
   "outputs": [
    {
     "data": {
      "text/html": [
       "<div>\n",
       "<style scoped>\n",
       "    .dataframe tbody tr th:only-of-type {\n",
       "        vertical-align: middle;\n",
       "    }\n",
       "\n",
       "    .dataframe tbody tr th {\n",
       "        vertical-align: top;\n",
       "    }\n",
       "\n",
       "    .dataframe thead th {\n",
       "        text-align: right;\n",
       "    }\n",
       "</style>\n",
       "<table border=\"1\" class=\"dataframe\">\n",
       "  <thead>\n",
       "    <tr style=\"text-align: right;\">\n",
       "      <th></th>\n",
       "      <th>복귀</th>\n",
       "      <th>입양분양</th>\n",
       "      <th>폐사안락사</th>\n",
       "      <th>계류기증</th>\n",
       "    </tr>\n",
       "    <tr>\n",
       "      <th>자치구</th>\n",
       "      <th></th>\n",
       "      <th></th>\n",
       "      <th></th>\n",
       "      <th></th>\n",
       "    </tr>\n",
       "  </thead>\n",
       "  <tbody>\n",
       "    <tr>\n",
       "      <td>중구</td>\n",
       "      <td>27.0</td>\n",
       "      <td>21.0</td>\n",
       "      <td>37.0</td>\n",
       "      <td>-</td>\n",
       "    </tr>\n",
       "    <tr>\n",
       "      <td>관악구</td>\n",
       "      <td>205.0</td>\n",
       "      <td>318.0</td>\n",
       "      <td>27.0</td>\n",
       "      <td>-</td>\n",
       "    </tr>\n",
       "    <tr>\n",
       "      <td>전체 구 평균</td>\n",
       "      <td>84.7</td>\n",
       "      <td>61.2</td>\n",
       "      <td>78.8</td>\n",
       "      <td>1.2</td>\n",
       "    </tr>\n",
       "  </tbody>\n",
       "</table>\n",
       "</div>"
      ],
      "text/plain": [
       "            복귀   입양분양  폐사안락사 계류기증\n",
       "자치구                              \n",
       "중구        27.0   21.0   37.0    -\n",
       "관악구      205.0  318.0   27.0    -\n",
       "전체 구 평균   84.7   61.2   78.8  1.2"
      ]
     },
     "execution_count": 350,
     "metadata": {},
     "output_type": "execute_result"
    }
   ],
   "source": [
    "#사람수 비교\n",
    "df_a = df2016.iloc[:,5:9]\n",
    "df_a"
   ]
  },
  {
   "cell_type": "code",
   "execution_count": 352,
   "metadata": {},
   "outputs": [
    {
     "data": {
      "text/plain": [
       "<matplotlib.legend.Legend at 0x167c65577c8>"
      ]
     },
     "execution_count": 352,
     "metadata": {},
     "output_type": "execute_result"
    },
    {
     "data": {
      "image/png": "[encoded data removed]",
      "text/plain": [
       "<Figure size 864x432 with 1 Axes>"
      ]
     },
     "metadata": {
      "needs_background": "light"
     },
     "output_type": "display_data"
    }
   ],
   "source": [
    "#2016년 중구, 관악구, 평균 인원 수 비교 / legend 이슈\n",
    "ax = df_a.plot(kind=\"bar\", title=\"중구, 관악구, 평균 인원 수 비교\", figsize=(12,6), legend=True, fontsize=12)\n",
    "ax.set_xlabel(\"지역\", fontsize=12)\n",
    "ax.set_ylabel(\"사람수\", fontsize=12)\n",
    "ax.legend(['복귀','입양분양','폐사안락사','계류기증'], fontsize=12)"
   ]
  },
  {
   "cell_type": "code",
   "execution_count": null,
   "metadata": {},
   "outputs": [],
   "source": []
  },
  {
   "cell_type": "code",
   "execution_count": null,
   "metadata": {},
   "outputs": [],
   "source": []
  },
  {
   "cell_type": "code",
   "execution_count": 365,
   "metadata": {},
   "outputs": [
    {
     "data": {
      "text/html": [
       "<div>\n",
       "<style scoped>\n",
       "    .dataframe tbody tr th:only-of-type {\n",
       "        vertical-align: middle;\n",
       "    }\n",
       "\n",
       "    .dataframe tbody tr th {\n",
       "        vertical-align: top;\n",
       "    }\n",
       "\n",
       "    .dataframe thead th {\n",
       "        text-align: right;\n",
       "    }\n",
       "</style>\n",
       "<table border=\"1\" class=\"dataframe\">\n",
       "  <thead>\n",
       "    <tr style=\"text-align: right;\">\n",
       "      <th></th>\n",
       "      <th>있다</th>\n",
       "    </tr>\n",
       "    <tr>\n",
       "      <th>자치구</th>\n",
       "      <th></th>\n",
       "    </tr>\n",
       "  </thead>\n",
       "  <tbody>\n",
       "    <tr>\n",
       "      <td>중구</td>\n",
       "      <td>23.9</td>\n",
       "    </tr>\n",
       "    <tr>\n",
       "      <td>관악구</td>\n",
       "      <td>21.1</td>\n",
       "    </tr>\n",
       "    <tr>\n",
       "      <td>전체 구 평균</td>\n",
       "      <td>0.7</td>\n",
       "    </tr>\n",
       "  </tbody>\n",
       "</table>\n",
       "</div>"
      ],
      "text/plain": [
       "           있다\n",
       "자치구          \n",
       "중구       23.9\n",
       "관악구      21.1\n",
       "전체 구 평균   0.7"
      ]
     },
     "execution_count": 365,
     "metadata": {},
     "output_type": "execute_result"
    }
   ],
   "source": [
    "#강아지 보유수\n",
    "df_b = df2016.iloc[:,9:10].astype(float)\n",
    "df_b"
   ]
  },
  {
   "cell_type": "code",
   "execution_count": 399,
   "metadata": {},
   "outputs": [
    {
     "data": {
      "text/plain": [
       "<matplotlib.legend.Legend at 0x167c84dab48>"
      ]
     },
     "execution_count": 399,
     "metadata": {},
     "output_type": "execute_result"
    },
    {
     "data": {
      "image/png": "[encoded data removed]",
      "text/plain": [
       "<Figure size 864x432 with 1 Axes>"
      ]
     },
     "metadata": {
      "needs_background": "light"
     },
     "output_type": "display_data"
    }
   ],
   "source": [
    "#2016년 중구, 관악구, 평균 강아지 보유수 / legend 이슈\n",
    "ax = df_b.plot(kind=\"bar\", title=\"중구, 관악구, 평균 강아지 보유수\", figsize=(12,6), legend=True, fontsize=12)\n",
    "ax.set_xlabel(\"지역\", fontsize=12)\n",
    "ax.set_ylabel(\"사람수\", fontsize=12)\n",
    "ax.legend(['강아지 보유수'], fontsize=12)"
   ]
  },
  {
   "cell_type": "code",
   "execution_count": null,
   "metadata": {},
   "outputs": [],
   "source": []
  },
  {
   "cell_type": "code",
   "execution_count": 378,
   "metadata": {},
   "outputs": [
    {
     "data": {
      "text/html": [
       "<div>\n",
       "<style scoped>\n",
       "    .dataframe tbody tr th:only-of-type {\n",
       "        vertical-align: middle;\n",
       "    }\n",
       "\n",
       "    .dataframe tbody tr th {\n",
       "        vertical-align: top;\n",
       "    }\n",
       "\n",
       "    .dataframe thead th {\n",
       "        text-align: right;\n",
       "    }\n",
       "</style>\n",
       "<table border=\"1\" class=\"dataframe\">\n",
       "  <thead>\n",
       "    <tr style=\"text-align: right;\">\n",
       "      <th></th>\n",
       "      <th>1인가구</th>\n",
       "      <th>2인가구</th>\n",
       "      <th>3인가구</th>\n",
       "      <th>4인가구</th>\n",
       "      <th>5인 가구</th>\n",
       "      <th>6인가구</th>\n",
       "      <th>7인이상 가구</th>\n",
       "    </tr>\n",
       "    <tr>\n",
       "      <th>자치구</th>\n",
       "      <th></th>\n",
       "      <th></th>\n",
       "      <th></th>\n",
       "      <th></th>\n",
       "      <th></th>\n",
       "      <th></th>\n",
       "      <th></th>\n",
       "    </tr>\n",
       "  </thead>\n",
       "  <tbody>\n",
       "    <tr>\n",
       "      <td>중구</td>\n",
       "      <td>19671.0</td>\n",
       "      <td>13086.0</td>\n",
       "      <td>9453.0</td>\n",
       "      <td>6844.0</td>\n",
       "      <td>1836.0</td>\n",
       "      <td>480.0</td>\n",
       "      <td>133.0</td>\n",
       "    </tr>\n",
       "    <tr>\n",
       "      <td>관악구</td>\n",
       "      <td>103972.0</td>\n",
       "      <td>51679.0</td>\n",
       "      <td>37389.0</td>\n",
       "      <td>28357.0</td>\n",
       "      <td>6997.0</td>\n",
       "      <td>1692.0</td>\n",
       "      <td>484.0</td>\n",
       "    </tr>\n",
       "    <tr>\n",
       "      <td>전체 구 평균</td>\n",
       "      <td>43802.3</td>\n",
       "      <td>35817.8</td>\n",
       "      <td>31421.0</td>\n",
       "      <td>26402.7</td>\n",
       "      <td>6290.6</td>\n",
       "      <td>1429.0</td>\n",
       "      <td>402.3</td>\n",
       "    </tr>\n",
       "  </tbody>\n",
       "</table>\n",
       "</div>"
      ],
      "text/plain": [
       "             1인가구     2인가구     3인가구     4인가구   5인 가구    6인가구  7인이상 가구\n",
       "자치구                                                                  \n",
       "중구        19671.0  13086.0   9453.0   6844.0  1836.0   480.0    133.0\n",
       "관악구      103972.0  51679.0  37389.0  28357.0  6997.0  1692.0    484.0\n",
       "전체 구 평균   43802.3  35817.8  31421.0  26402.7  6290.6  1429.0    402.3"
      ]
     },
     "execution_count": 378,
     "metadata": {},
     "output_type": "execute_result"
    }
   ],
   "source": [
    "#강아지 가구수\n",
    "df_c = df2016.iloc[:,19:26].astype(float)\n",
    "df_c"
   ]
  },
  {
   "cell_type": "code",
   "execution_count": 400,
   "metadata": {},
   "outputs": [
    {
     "data": {
      "text/plain": [
       "<matplotlib.legend.Legend at 0x167c89eb2c8>"
      ]
     },
     "execution_count": 400,
     "metadata": {},
     "output_type": "execute_result"
    },
    {
     "data": {
      "image/png": "[encoded data removed]",
      "text/plain": [
       "<Figure size 864x432 with 1 Axes>"
      ]
     },
     "metadata": {
      "needs_background": "light"
     },
     "output_type": "display_data"
    }
   ],
   "source": [
    "#2016년 중구, 관악구, 평균 가구수 / legend 이슈\n",
    "ax = df_c.plot(kind=\"bar\", title=\"중구, 관악구, 평균 가구 수\", figsize=(12,6), legend=True, fontsize=12)\n",
    "ax.set_xlabel(\"지역\", fontsize=12)\n",
    "ax.set_ylabel(\"사람수\", fontsize=12)\n",
    "ax.legend(['1인가구','2인가구','3인가구','4인가구','5인 가구','6인가구','7인이상 가구'], fontsize=12)"
   ]
  },
  {
   "cell_type": "code",
   "execution_count": null,
   "metadata": {},
   "outputs": [],
   "source": []
  },
  {
   "cell_type": "code",
   "execution_count": null,
   "metadata": {},
   "outputs": [],
   "source": []
  },
  {
   "cell_type": "code",
   "execution_count": null,
   "metadata": {},
   "outputs": [],
   "source": []
  },
  {
   "cell_type": "code",
   "execution_count": 392,
   "metadata": {},
   "outputs": [
    {
     "data": {
      "text/html": [
       "<div>\n",
       "<style scoped>\n",
       "    .dataframe tbody tr th:only-of-type {\n",
       "        vertical-align: middle;\n",
       "    }\n",
       "\n",
       "    .dataframe tbody tr th {\n",
       "        vertical-align: top;\n",
       "    }\n",
       "\n",
       "    .dataframe thead th {\n",
       "        text-align: right;\n",
       "    }\n",
       "</style>\n",
       "<table border=\"1\" class=\"dataframe\">\n",
       "  <thead>\n",
       "    <tr style=\"text-align: right;\">\n",
       "      <th></th>\n",
       "      <th>1인세대</th>\n",
       "      <th>2인세대</th>\n",
       "      <th>3인세대</th>\n",
       "      <th>4인세대</th>\n",
       "      <th>5인세대</th>\n",
       "      <th>6인세대</th>\n",
       "      <th>7인세대</th>\n",
       "      <th>8인세대</th>\n",
       "      <th>9인세대</th>\n",
       "      <th>10인세대 이상</th>\n",
       "    </tr>\n",
       "    <tr>\n",
       "      <th>자치구</th>\n",
       "      <th></th>\n",
       "      <th></th>\n",
       "      <th></th>\n",
       "      <th></th>\n",
       "      <th></th>\n",
       "      <th></th>\n",
       "      <th></th>\n",
       "      <th></th>\n",
       "      <th></th>\n",
       "      <th></th>\n",
       "    </tr>\n",
       "  </thead>\n",
       "  <tbody>\n",
       "    <tr>\n",
       "      <td>중구</td>\n",
       "      <td>28368.0</td>\n",
       "      <td>11780.0</td>\n",
       "      <td>9138.0</td>\n",
       "      <td>7615.0</td>\n",
       "      <td>2039.0</td>\n",
       "      <td>508.0</td>\n",
       "      <td>137.0</td>\n",
       "      <td>40.0</td>\n",
       "      <td>12.0</td>\n",
       "      <td>14.0</td>\n",
       "    </tr>\n",
       "    <tr>\n",
       "      <td>관악구</td>\n",
       "      <td>128682.0</td>\n",
       "      <td>46565.0</td>\n",
       "      <td>35590.0</td>\n",
       "      <td>30917.0</td>\n",
       "      <td>7735.0</td>\n",
       "      <td>1827.0</td>\n",
       "      <td>459.0</td>\n",
       "      <td>108.0</td>\n",
       "      <td>36.0</td>\n",
       "      <td>36.0</td>\n",
       "    </tr>\n",
       "    <tr>\n",
       "      <td>전체 구 평균</td>\n",
       "      <td>60059.0</td>\n",
       "      <td>32580.8</td>\n",
       "      <td>29961.4</td>\n",
       "      <td>29285.2</td>\n",
       "      <td>7077.7</td>\n",
       "      <td>1613.7</td>\n",
       "      <td>398.1</td>\n",
       "      <td>110.9</td>\n",
       "      <td>35.7</td>\n",
       "      <td>25.2</td>\n",
       "    </tr>\n",
       "  </tbody>\n",
       "</table>\n",
       "</div>"
      ],
      "text/plain": [
       "             1인세대     2인세대     3인세대     4인세대    5인세대    6인세대   7인세대   8인세대  \\\n",
       "자치구                                                                          \n",
       "중구        28368.0  11780.0   9138.0   7615.0  2039.0   508.0  137.0   40.0   \n",
       "관악구      128682.0  46565.0  35590.0  30917.0  7735.0  1827.0  459.0  108.0   \n",
       "전체 구 평균   60059.0  32580.8  29961.4  29285.2  7077.7  1613.7  398.1  110.9   \n",
       "\n",
       "         9인세대  10인세대 이상  \n",
       "자치구                      \n",
       "중구       12.0      14.0  \n",
       "관악구      36.0      36.0  \n",
       "전체 구 평균  35.7      25.2  "
      ]
     },
     "execution_count": 392,
     "metadata": {},
     "output_type": "execute_result"
    }
   ],
   "source": [
    "#세대 수\n",
    "df_d = df2016.iloc[:,28:38].astype(float)\n",
    "df_d"
   ]
  },
  {
   "cell_type": "code",
   "execution_count": 401,
   "metadata": {},
   "outputs": [
    {
     "data": {
      "text/plain": [
       "<matplotlib.legend.Legend at 0x167c856f388>"
      ]
     },
     "execution_count": 401,
     "metadata": {},
     "output_type": "execute_result"
    },
    {
     "data": {
      "image/png": "[encoded data removed]",
      "text/plain": [
       "<Figure size 864x432 with 1 Axes>"
      ]
     },
     "metadata": {
      "needs_background": "light"
     },
     "output_type": "display_data"
    }
   ],
   "source": [
    "#2016년 중구, 관악구, 평균 가구수 / legend 이슈\n",
    "ax = df_d.plot(kind=\"bar\", title=\"중구, 관악구, 평균 세대 수\", figsize=(12,6), legend=True, fontsize=12)\n",
    "ax.set_xlabel(\"지역\", fontsize=12)\n",
    "ax.set_ylabel(\"사람수\", fontsize=12)\n",
    "ax.legend(['1인세대','2인세대','3인세대','4인세대','5인세대','6인세대','7인세대','8인세대','9인세대'], fontsize=12)"
   ]
  },
  {
   "cell_type": "code",
   "execution_count": null,
   "metadata": {},
   "outputs": [],
   "source": []
  },
  {
   "cell_type": "code",
   "execution_count": null,
   "metadata": {},
   "outputs": [],
   "source": []
  },
  {
   "cell_type": "code",
   "execution_count": 384,
   "metadata": {},
   "outputs": [
    {
     "data": {
      "text/html": [
       "<div>\n",
       "<style scoped>\n",
       "    .dataframe tbody tr th:only-of-type {\n",
       "        vertical-align: middle;\n",
       "    }\n",
       "\n",
       "    .dataframe tbody tr th {\n",
       "        vertical-align: top;\n",
       "    }\n",
       "\n",
       "    .dataframe thead th {\n",
       "        text-align: right;\n",
       "    }\n",
       "</style>\n",
       "<table border=\"1\" class=\"dataframe\">\n",
       "  <thead>\n",
       "    <tr style=\"text-align: right;\">\n",
       "      <th></th>\n",
       "      <th>단독주택</th>\n",
       "      <th>아파트</th>\n",
       "      <th>연립주택</th>\n",
       "      <th>다세대주택</th>\n",
       "    </tr>\n",
       "    <tr>\n",
       "      <th>자치구</th>\n",
       "      <th></th>\n",
       "      <th></th>\n",
       "      <th></th>\n",
       "      <th></th>\n",
       "    </tr>\n",
       "  </thead>\n",
       "  <tbody>\n",
       "    <tr>\n",
       "      <td>중구</td>\n",
       "      <td>6364.0</td>\n",
       "      <td>22923.0</td>\n",
       "      <td>1955.0</td>\n",
       "      <td>6333.0</td>\n",
       "    </tr>\n",
       "    <tr>\n",
       "      <td>관악구</td>\n",
       "      <td>22636.0</td>\n",
       "      <td>54551.0</td>\n",
       "      <td>6479.0</td>\n",
       "      <td>38369.0</td>\n",
       "    </tr>\n",
       "    <tr>\n",
       "      <td>전체 구 평균</td>\n",
       "      <td>13279.6</td>\n",
       "      <td>63130.1</td>\n",
       "      <td>4465.6</td>\n",
       "      <td>26901.8</td>\n",
       "    </tr>\n",
       "  </tbody>\n",
       "</table>\n",
       "</div>"
      ],
      "text/plain": [
       "            단독주택      아파트    연립주택    다세대주택\n",
       "자치구                                       \n",
       "중구        6364.0  22923.0  1955.0   6333.0\n",
       "관악구      22636.0  54551.0  6479.0  38369.0\n",
       "전체 구 평균  13279.6  63130.1  4465.6  26901.8"
      ]
     },
     "execution_count": 384,
     "metadata": {},
     "output_type": "execute_result"
    }
   ],
   "source": [
    "#주거형태\n",
    "df_e = df2016.iloc[:,39:43].astype(float)\n",
    "df_e"
   ]
  },
  {
   "cell_type": "code",
   "execution_count": 403,
   "metadata": {},
   "outputs": [
    {
     "data": {
      "text/plain": [
       "<matplotlib.legend.Legend at 0x167c8a4edc8>"
      ]
     },
     "execution_count": 403,
     "metadata": {},
     "output_type": "execute_result"
    },
    {
     "data": {
      "image/png": "[encoded data removed]",
      "text/plain": [
       "<Figure size 864x432 with 1 Axes>"
      ]
     },
     "metadata": {
      "needs_background": "light"
     },
     "output_type": "display_data"
    }
   ],
   "source": [
    "#2016년 중구, 관악구, 평균 주거형태/ legend 이슈\n",
    "ax = df_e.plot(kind=\"bar\", title=\"중구, 관악구, 평균 주거형태\", figsize=(12,6), legend=True, fontsize=12)\n",
    "ax.set_xlabel(\"지역\", fontsize=12)\n",
    "ax.set_ylabel(\"사람수\", fontsize=12)\n",
    "ax.legend(['단독주택','아파트','연립주택','다세대주택'], fontsize=12)"
   ]
  },
  {
   "cell_type": "code",
   "execution_count": null,
   "metadata": {},
   "outputs": [],
   "source": []
  },
  {
   "cell_type": "code",
   "execution_count": null,
   "metadata": {},
   "outputs": [],
   "source": []
  },
  {
   "cell_type": "code",
   "execution_count": 386,
   "metadata": {},
   "outputs": [
    {
     "data": {
      "text/html": [
       "<div>\n",
       "<style scoped>\n",
       "    .dataframe tbody tr th:only-of-type {\n",
       "        vertical-align: middle;\n",
       "    }\n",
       "\n",
       "    .dataframe tbody tr th {\n",
       "        vertical-align: top;\n",
       "    }\n",
       "\n",
       "    .dataframe thead th {\n",
       "        text-align: right;\n",
       "    }\n",
       "</style>\n",
       "<table border=\"1\" class=\"dataframe\">\n",
       "  <thead>\n",
       "    <tr style=\"text-align: right;\">\n",
       "      <th></th>\n",
       "      <th>공원율(%)</th>\n",
       "      <th>공원 계</th>\n",
       "    </tr>\n",
       "    <tr>\n",
       "      <th>자치구</th>\n",
       "      <th></th>\n",
       "      <th></th>\n",
       "    </tr>\n",
       "  </thead>\n",
       "  <tbody>\n",
       "    <tr>\n",
       "      <td>중구</td>\n",
       "      <td>31.44</td>\n",
       "      <td>70.0</td>\n",
       "    </tr>\n",
       "    <tr>\n",
       "      <td>관악구</td>\n",
       "      <td>37.12</td>\n",
       "      <td>110.0</td>\n",
       "    </tr>\n",
       "    <tr>\n",
       "      <td>전체 구 평균</td>\n",
       "      <td>1.10</td>\n",
       "      <td>109.0</td>\n",
       "    </tr>\n",
       "  </tbody>\n",
       "</table>\n",
       "</div>"
      ],
      "text/plain": [
       "         공원율(%)   공원 계\n",
       "자치구                   \n",
       "중구        31.44   70.0\n",
       "관악구       37.12  110.0\n",
       "전체 구 평균    1.10  109.0"
      ]
     },
     "execution_count": 386,
     "metadata": {},
     "output_type": "execute_result"
    }
   ],
   "source": [
    "#공원 비율 및 계\n",
    "df_f = df2016.iloc[:,46:48].astype(float)\n",
    "df_f"
   ]
  },
  {
   "cell_type": "code",
   "execution_count": 404,
   "metadata": {},
   "outputs": [
    {
     "data": {
      "text/plain": [
       "<matplotlib.legend.Legend at 0x167c904f7c8>"
      ]
     },
     "execution_count": 404,
     "metadata": {},
     "output_type": "execute_result"
    },
    {
     "data": {
      "image/png": "[encoded data removed]",
      "text/plain": [
       "<Figure size 864x432 with 1 Axes>"
      ]
     },
     "metadata": {
      "needs_background": "light"
     },
     "output_type": "display_data"
    }
   ],
   "source": [
    "#2016년 중구, 관악구, 평균 공원 비율 및 계 / legend 이슈\n",
    "ax = df_f.plot(kind=\"bar\", title=\"중구, 관악구, 평균 공원 비율 및 계\", figsize=(12,6), legend=True, fontsize=12)\n",
    "ax.set_xlabel(\"지역\", fontsize=12)\n",
    "ax.set_ylabel(\"사람수\", fontsize=12)\n",
    "ax.legend(['공원율(%)','공원 계'], fontsize=12)"
   ]
  },
  {
   "cell_type": "code",
   "execution_count": null,
   "metadata": {},
   "outputs": [],
   "source": []
  },
  {
   "cell_type": "code",
   "execution_count": null,
   "metadata": {},
   "outputs": [],
   "source": []
  },
  {
   "cell_type": "code",
   "execution_count": 388,
   "metadata": {},
   "outputs": [
    {
     "data": {
      "text/html": [
       "<div>\n",
       "<style scoped>\n",
       "    .dataframe tbody tr th:only-of-type {\n",
       "        vertical-align: middle;\n",
       "    }\n",
       "\n",
       "    .dataframe tbody tr th {\n",
       "        vertical-align: top;\n",
       "    }\n",
       "\n",
       "    .dataframe thead th {\n",
       "        text-align: right;\n",
       "    }\n",
       "</style>\n",
       "<table border=\"1\" class=\"dataframe\">\n",
       "  <thead>\n",
       "    <tr style=\"text-align: right;\">\n",
       "      <th></th>\n",
       "      <th>20세미만</th>\n",
       "      <th>20대</th>\n",
       "      <th>30대</th>\n",
       "      <th>40대</th>\n",
       "      <th>50대</th>\n",
       "      <th>60대</th>\n",
       "      <th>70대이상</th>\n",
       "    </tr>\n",
       "    <tr>\n",
       "      <th>자치구</th>\n",
       "      <th></th>\n",
       "      <th></th>\n",
       "      <th></th>\n",
       "      <th></th>\n",
       "      <th></th>\n",
       "      <th></th>\n",
       "      <th></th>\n",
       "    </tr>\n",
       "  </thead>\n",
       "  <tbody>\n",
       "    <tr>\n",
       "      <td>중구</td>\n",
       "      <td>567.0</td>\n",
       "      <td>4582.0</td>\n",
       "      <td>3735.0</td>\n",
       "      <td>3036.0</td>\n",
       "      <td>2873.0</td>\n",
       "      <td>2348.0</td>\n",
       "      <td>2530.0</td>\n",
       "    </tr>\n",
       "    <tr>\n",
       "      <td>관악구</td>\n",
       "      <td>1053.0</td>\n",
       "      <td>38095.0</td>\n",
       "      <td>28451.0</td>\n",
       "      <td>12792.0</td>\n",
       "      <td>9262.0</td>\n",
       "      <td>7280.0</td>\n",
       "      <td>7039.0</td>\n",
       "    </tr>\n",
       "    <tr>\n",
       "      <td>전체 구 평균</td>\n",
       "      <td>574.5</td>\n",
       "      <td>10407.8</td>\n",
       "      <td>9980.0</td>\n",
       "      <td>6643.8</td>\n",
       "      <td>5944.7</td>\n",
       "      <td>4943.6</td>\n",
       "      <td>5308.0</td>\n",
       "    </tr>\n",
       "  </tbody>\n",
       "</table>\n",
       "</div>"
      ],
      "text/plain": [
       "          20세미만      20대      30대      40대     50대     60대   70대이상\n",
       "자치구                                                               \n",
       "중구        567.0   4582.0   3735.0   3036.0  2873.0  2348.0  2530.0\n",
       "관악구      1053.0  38095.0  28451.0  12792.0  9262.0  7280.0  7039.0\n",
       "전체 구 평균   574.5  10407.8   9980.0   6643.8  5944.7  4943.6  5308.0"
      ]
     },
     "execution_count": 388,
     "metadata": {},
     "output_type": "execute_result"
    }
   ],
   "source": [
    "# 연령대\n",
    "df_g = df2016.iloc[:,69:78].astype(float)\n",
    "df_g"
   ]
  },
  {
   "cell_type": "code",
   "execution_count": 405,
   "metadata": {},
   "outputs": [
    {
     "data": {
      "text/plain": [
       "<matplotlib.legend.Legend at 0x167c907b688>"
      ]
     },
     "execution_count": 405,
     "metadata": {},
     "output_type": "execute_result"
    },
    {
     "data": {
      "image/png": "[encoded data removed]",
      "text/plain": [
       "<Figure size 864x432 with 1 Axes>"
      ]
     },
     "metadata": {
      "needs_background": "light"
     },
     "output_type": "display_data"
    }
   ],
   "source": [
    "#2016년 중구, 관악구, 평균 연령대 / legend 이슈\n",
    "ax = df_g.plot(kind=\"bar\", title=\"중구, 관악구, 평균 연령대\", figsize=(12,6), legend=True, fontsize=12)\n",
    "ax.set_xlabel(\"지역\", fontsize=12)\n",
    "ax.set_ylabel(\"사람수\", fontsize=12)\n",
    "ax.legend(['20세미만','20대','30대','40대','50대','60대','70대이상'], fontsize=12)"
   ]
  },
  {
   "cell_type": "code",
   "execution_count": null,
   "metadata": {},
   "outputs": [],
   "source": []
  },
  {
   "cell_type": "code",
   "execution_count": 585,
   "metadata": {},
   "outputs": [
    {
     "data": {
      "text/html": [
       "<div>\n",
       "<style scoped>\n",
       "    .dataframe tbody tr th:only-of-type {\n",
       "        vertical-align: middle;\n",
       "    }\n",
       "\n",
       "    .dataframe tbody tr th {\n",
       "        vertical-align: top;\n",
       "    }\n",
       "\n",
       "    .dataframe thead th {\n",
       "        text-align: right;\n",
       "    }\n",
       "</style>\n",
       "<table border=\"1\" class=\"dataframe\">\n",
       "  <thead>\n",
       "    <tr style=\"text-align: right;\">\n",
       "      <th></th>\n",
       "      <th>사람 수</th>\n",
       "    </tr>\n",
       "    <tr>\n",
       "      <th>자치구</th>\n",
       "      <th></th>\n",
       "    </tr>\n",
       "  </thead>\n",
       "  <tbody>\n",
       "    <tr>\n",
       "      <td>중구</td>\n",
       "      <td>125249.0</td>\n",
       "    </tr>\n",
       "    <tr>\n",
       "      <td>관악구</td>\n",
       "      <td>506851.0</td>\n",
       "    </tr>\n",
       "    <tr>\n",
       "      <td>전체 구 평균</td>\n",
       "      <td>381946.8</td>\n",
       "    </tr>\n",
       "  </tbody>\n",
       "</table>\n",
       "</div>"
      ],
      "text/plain": [
       "             사람 수\n",
       "자치구              \n",
       "중구       125249.0\n",
       "관악구      506851.0\n",
       "전체 구 평균  381946.8"
      ]
     },
     "execution_count": 585,
     "metadata": {},
     "output_type": "execute_result"
    }
   ],
   "source": [
    "#사람수 비교\n",
    "df_a = df2016.iloc[:,1:2]\n",
    "df_a"
   ]
  },
  {
   "cell_type": "code",
   "execution_count": 591,
   "metadata": {},
   "outputs": [
    {
     "data": {
      "text/html": [
       "<div>\n",
       "<style scoped>\n",
       "    .dataframe tbody tr th:only-of-type {\n",
       "        vertical-align: middle;\n",
       "    }\n",
       "\n",
       "    .dataframe tbody tr th {\n",
       "        vertical-align: top;\n",
       "    }\n",
       "\n",
       "    .dataframe thead th {\n",
       "        text-align: right;\n",
       "    }\n",
       "</style>\n",
       "<table border=\"1\" class=\"dataframe\">\n",
       "  <thead>\n",
       "    <tr style=\"text-align: right;\">\n",
       "      <th></th>\n",
       "      <th>단독주택</th>\n",
       "      <th>아파트</th>\n",
       "      <th>연립주택</th>\n",
       "      <th>다세대주택</th>\n",
       "    </tr>\n",
       "    <tr>\n",
       "      <th>자치구</th>\n",
       "      <th></th>\n",
       "      <th></th>\n",
       "      <th></th>\n",
       "      <th></th>\n",
       "    </tr>\n",
       "  </thead>\n",
       "  <tbody>\n",
       "    <tr>\n",
       "      <td>중구</td>\n",
       "      <td>6364.0</td>\n",
       "      <td>22923.0</td>\n",
       "      <td>1955.0</td>\n",
       "      <td>6333.0</td>\n",
       "    </tr>\n",
       "    <tr>\n",
       "      <td>관악구</td>\n",
       "      <td>22636.0</td>\n",
       "      <td>54551.0</td>\n",
       "      <td>6479.0</td>\n",
       "      <td>38369.0</td>\n",
       "    </tr>\n",
       "    <tr>\n",
       "      <td>전체 구 평균</td>\n",
       "      <td>13279.6</td>\n",
       "      <td>63130.1</td>\n",
       "      <td>4465.6</td>\n",
       "      <td>26901.8</td>\n",
       "    </tr>\n",
       "  </tbody>\n",
       "</table>\n",
       "</div>"
      ],
      "text/plain": [
       "            단독주택      아파트    연립주택    다세대주택\n",
       "자치구                                       \n",
       "중구        6364.0  22923.0  1955.0   6333.0\n",
       "관악구      22636.0  54551.0  6479.0  38369.0\n",
       "전체 구 평균  13279.6  63130.1  4465.6  26901.8"
      ]
     },
     "execution_count": 591,
     "metadata": {},
     "output_type": "execute_result"
    }
   ],
   "source": [
    "df_e"
   ]
  },
  {
   "cell_type": "code",
   "execution_count": 603,
   "metadata": {},
   "outputs": [
    {
     "data": {
      "text/html": [
       "<div>\n",
       "<style scoped>\n",
       "    .dataframe tbody tr th:only-of-type {\n",
       "        vertical-align: middle;\n",
       "    }\n",
       "\n",
       "    .dataframe tbody tr th {\n",
       "        vertical-align: top;\n",
       "    }\n",
       "\n",
       "    .dataframe thead th {\n",
       "        text-align: right;\n",
       "    }\n",
       "</style>\n",
       "<table border=\"1\" class=\"dataframe\">\n",
       "  <thead>\n",
       "    <tr style=\"text-align: right;\">\n",
       "      <th></th>\n",
       "      <th>단독주택</th>\n",
       "      <th>아파트</th>\n",
       "      <th>연립주택</th>\n",
       "      <th>다세대주택</th>\n",
       "    </tr>\n",
       "    <tr>\n",
       "      <th>자치구</th>\n",
       "      <th></th>\n",
       "      <th></th>\n",
       "      <th></th>\n",
       "      <th></th>\n",
       "    </tr>\n",
       "  </thead>\n",
       "  <tbody>\n",
       "    <tr>\n",
       "      <td>중구</td>\n",
       "      <td>508.0</td>\n",
       "      <td>1830.0</td>\n",
       "      <td>156.0</td>\n",
       "      <td>506.0</td>\n",
       "    </tr>\n",
       "    <tr>\n",
       "      <td>관악구</td>\n",
       "      <td>447.0</td>\n",
       "      <td>1076.0</td>\n",
       "      <td>128.0</td>\n",
       "      <td>757.0</td>\n",
       "    </tr>\n",
       "    <tr>\n",
       "      <td>전체 구 평균</td>\n",
       "      <td>348.0</td>\n",
       "      <td>1653.0</td>\n",
       "      <td>117.0</td>\n",
       "      <td>704.0</td>\n",
       "    </tr>\n",
       "  </tbody>\n",
       "</table>\n",
       "</div>"
      ],
      "text/plain": [
       "          단독주택     아파트   연립주택  다세대주택\n",
       "자치구                                 \n",
       "중구       508.0  1830.0  156.0  506.0\n",
       "관악구      447.0  1076.0  128.0  757.0\n",
       "전체 구 평균  348.0  1653.0  117.0  704.0"
      ]
     },
     "execution_count": 603,
     "metadata": {},
     "output_type": "execute_result"
    }
   ],
   "source": [
    "# 최소117 최대1830\n",
    "df_e_Tt = round(df_e/df_a.values*10000)\n",
    "df_e_Tt\n"
   ]
  },
  {
   "cell_type": "code",
   "execution_count": 512,
   "metadata": {},
   "outputs": [
    {
     "data": {
      "text/html": [
       "<div>\n",
       "<style scoped>\n",
       "    .dataframe tbody tr th:only-of-type {\n",
       "        vertical-align: middle;\n",
       "    }\n",
       "\n",
       "    .dataframe tbody tr th {\n",
       "        vertical-align: top;\n",
       "    }\n",
       "\n",
       "    .dataframe thead th {\n",
       "        text-align: right;\n",
       "    }\n",
       "</style>\n",
       "<table border=\"1\" class=\"dataframe\">\n",
       "  <thead>\n",
       "    <tr style=\"text-align: right;\">\n",
       "      <th>자치구</th>\n",
       "      <th>중구</th>\n",
       "      <th>관악구</th>\n",
       "      <th>전체 구 평균</th>\n",
       "    </tr>\n",
       "  </thead>\n",
       "  <tbody>\n",
       "    <tr>\n",
       "      <td>단독주택</td>\n",
       "      <td>6364.0</td>\n",
       "      <td>22636.0</td>\n",
       "      <td>13279.6</td>\n",
       "    </tr>\n",
       "    <tr>\n",
       "      <td>아파트</td>\n",
       "      <td>22923.0</td>\n",
       "      <td>54551.0</td>\n",
       "      <td>63130.1</td>\n",
       "    </tr>\n",
       "    <tr>\n",
       "      <td>연립주택</td>\n",
       "      <td>1955.0</td>\n",
       "      <td>6479.0</td>\n",
       "      <td>4465.6</td>\n",
       "    </tr>\n",
       "    <tr>\n",
       "      <td>다세대주택</td>\n",
       "      <td>6333.0</td>\n",
       "      <td>38369.0</td>\n",
       "      <td>26901.8</td>\n",
       "    </tr>\n",
       "  </tbody>\n",
       "</table>\n",
       "</div>"
      ],
      "text/plain": [
       "자치구         중구      관악구  전체 구 평균\n",
       "단독주택    6364.0  22636.0  13279.6\n",
       "아파트    22923.0  54551.0  63130.1\n",
       "연립주택    1955.0   6479.0   4465.6\n",
       "다세대주택   6333.0  38369.0  26901.8"
      ]
     },
     "execution_count": 512,
     "metadata": {},
     "output_type": "execute_result"
    }
   ],
   "source": [
    "df_e_T = df_e.T\n",
    "df_e_T"
   ]
  },
  {
   "cell_type": "code",
   "execution_count": null,
   "metadata": {},
   "outputs": [],
   "source": [
    "# Set data\n",
    "df = pd.DataFrame({\n",
    "'group': ['A','B','C','D'],\n",
    "'var1': [38, 1.5, 30, 4],\n",
    "'var2': [29, 10, 9, 34],\n",
    "'var3': [8, 39, 23, 24],\n",
    "'var4': [7, 31, 33, 14],\n",
    "'var5': [28, 15, 32, 14]\n",
    "})\n",
    " "
   ]
  },
  {
   "cell_type": "code",
   "execution_count": null,
   "metadata": {},
   "outputs": [],
   "source": []
  },
  {
   "cell_type": "code",
   "execution_count": 549,
   "metadata": {},
   "outputs": [
    {
     "data": {
      "text/plain": [
       "['중구', '관악구', '전체 구 평균']"
      ]
     },
     "execution_count": 549,
     "metadata": {},
     "output_type": "execute_result"
    }
   ],
   "source": [
    "group = df_e_T.columns.tolist()\n",
    "group"
   ]
  },
  {
   "cell_type": "code",
   "execution_count": 550,
   "metadata": {},
   "outputs": [
    {
     "data": {
      "text/plain": [
       "[[6364.0, 22636.0, 13279.6],\n",
       " [22923.0, 54551.0, 63130.1],\n",
       " [1955.0, 6479.0, 4465.6],\n",
       " [6333.0, 38369.0, 26901.8]]"
      ]
     },
     "execution_count": 550,
     "metadata": {},
     "output_type": "execute_result"
    }
   ],
   "source": [
    "dataT = df_e_T.values.tolist()\n",
    "dataT"
   ]
  },
  {
   "cell_type": "code",
   "execution_count": 551,
   "metadata": {},
   "outputs": [
    {
     "name": "stdout",
     "output_type": "stream",
     "text": [
      "[6364.0, 22636.0, 13279.6]\n",
      "[22923.0, 54551.0, 63130.1]\n",
      "[1955.0, 6479.0, 4465.6]\n",
      "[6333.0, 38369.0, 26901.8]\n"
     ]
    }
   ],
   "source": [
    "var = []\n",
    "for i in range(len(dataT)):\n",
    "    var.append(dataT[i])\n",
    "    print(var[i])"
   ]
  },
  {
   "cell_type": "code",
   "execution_count": 554,
   "metadata": {},
   "outputs": [],
   "source": [
    "# df_e_graph = pd.DataFrame({\n",
    "#     'group': group,\n",
    "#     var = []\n",
    "#     for i in range(len(dataT)):\n",
    "#         var.append(dataT[i])\n",
    "#         print(var[i])\n",
    "# })"
   ]
  },
  {
   "cell_type": "code",
   "execution_count": null,
   "metadata": {},
   "outputs": [],
   "source": []
  },
  {
   "cell_type": "code",
   "execution_count": null,
   "metadata": {},
   "outputs": [],
   "source": []
  },
  {
   "cell_type": "code",
   "execution_count": null,
   "metadata": {},
   "outputs": [],
   "source": []
  },
  {
   "cell_type": "code",
   "execution_count": null,
   "metadata": {},
   "outputs": [],
   "source": []
  },
  {
   "cell_type": "code",
   "execution_count": null,
   "metadata": {},
   "outputs": [],
   "source": []
  },
  {
   "cell_type": "code",
   "execution_count": 555,
   "metadata": {},
   "outputs": [],
   "source": [
    "# dataT = []\n",
    "# #dataT = list(df_e.T)\n",
    "\n",
    "\n",
    "# for i in range(len(df_e_T)):\n",
    "#     print(i)\n",
    "#     dataT.append(list(df_e.T.loc[i]))"
   ]
  },
  {
   "cell_type": "code",
   "execution_count": null,
   "metadata": {},
   "outputs": [],
   "source": []
  },
  {
   "cell_type": "code",
   "execution_count": 584,
   "metadata": {},
   "outputs": [
    {
     "data": {
      "text/plain": [
       "<matplotlib.legend.Legend at 0x167ccf6bf08>"
      ]
     },
     "execution_count": 584,
     "metadata": {},
     "output_type": "execute_result"
    },
    {
     "data": {
      "image/png": "[encoded data removed]",
      "text/plain": [
       "<Figure size 432x288 with 1 Axes>"
      ]
     },
     "metadata": {},
     "output_type": "display_data"
    }
   ],
   "source": [
    "# Libraries\n",
    "import matplotlib.pyplot as plt\n",
    "import pandas as pd\n",
    "from math import pi\n",
    " \n",
    "# Set data\n",
    "\n",
    "df_e_graph = pd.DataFrame({\n",
    "    'group': group,\n",
    "    '단독주택': var[0],\n",
    "    '아파트': var[1],\n",
    "    '연립주택': var[2],\n",
    "    '다세대주택': var[3]\n",
    "    \n",
    "})\n",
    "\n",
    "# ------- PART 1: Create background\n",
    " \n",
    "# number of variable\n",
    "categories=list(df_e_graph)[1:]\n",
    "N = len(categories)\n",
    " \n",
    "# What will be the angle of each axis in the plot? (we divide the plot / number of variable)\n",
    "angles = [n / float(N) * 2 * pi for n in range(N)]\n",
    "angles += angles[:1]\n",
    "\n",
    "# Initialise the spider plot\n",
    "ax = plt.subplot(111, polar=True)\n",
    " \n",
    "# If you want the first axis to be on top:\n",
    "ax.set_theta_offset(pi / 2)\n",
    "ax.set_theta_direction(-1)\n",
    " \n",
    "# Draw one axe per variable + add labels labels yet\n",
    "plt.xticks(angles[:-1], categories)\n",
    " \n",
    "# Draw ylabels\n",
    "ax.set_rlabel_position(0)\n",
    "plt.yticks([10000,20000,30000,40000,50000,60000,70000], [\"10,000\",\"20,000\",\"30,000\",\"40,000\",'50,000','60,000','70,000'], color=\"grey\", size=10)\n",
    "plt.ylim(0,70000)\n",
    " \n",
    " \n",
    "# ------- PART 2: Add plots\n",
    " \n",
    "# # Plot each individual = each line of the data\n",
    "# # I don't do a loop, because plotting more than 3 groups makes the chart unreadable\n",
    " \n",
    "# Ind1\n",
    "values=df_e_graph.loc[0].drop('group').values.flatten().tolist()\n",
    "values += values[:1]\n",
    "ax.plot(angles, values, linewidth=1, linestyle='solid', label=\"중구\")\n",
    "ax.fill(angles, values, 'b', alpha=0.1)\n",
    " \n",
    "# Ind2\n",
    "values=df_e_graph.loc[1].drop('group').values.flatten().tolist()\n",
    "values += values[:1]\n",
    "ax.plot(angles, values, linewidth=1, linestyle='solid', label=\"관악구\")\n",
    "ax.fill(angles, values, 'r', alpha=0.1)\n",
    "\n",
    "# Ind3\n",
    "values=df_e_graph.loc[2].drop('group').values.flatten().tolist()\n",
    "values += values[:1]\n",
    "ax.plot(angles, values, linewidth=1, linestyle='solid', label=\"전체 구 평균\")\n",
    "ax.fill(angles, values, 'r', alpha=0.1)\n",
    " \n",
    "# Add legend\n",
    "plt.legend(loc='upper right', bbox_to_anchor=(0.1, 0.1))\n"
   ]
  },
  {
   "cell_type": "code",
   "execution_count": 573,
   "metadata": {},
   "outputs": [
    {
     "data": {
      "text/html": [
       "<div>\n",
       "<style scoped>\n",
       "    .dataframe tbody tr th:only-of-type {\n",
       "        vertical-align: middle;\n",
       "    }\n",
       "\n",
       "    .dataframe tbody tr th {\n",
       "        vertical-align: top;\n",
       "    }\n",
       "\n",
       "    .dataframe thead th {\n",
       "        text-align: right;\n",
       "    }\n",
       "</style>\n",
       "<table border=\"1\" class=\"dataframe\">\n",
       "  <thead>\n",
       "    <tr style=\"text-align: right;\">\n",
       "      <th></th>\n",
       "      <th>group</th>\n",
       "      <th>var1</th>\n",
       "      <th>var2</th>\n",
       "      <th>var3</th>\n",
       "      <th>var4</th>\n",
       "    </tr>\n",
       "  </thead>\n",
       "  <tbody>\n",
       "    <tr>\n",
       "      <td>0</td>\n",
       "      <td>중구</td>\n",
       "      <td>6364.0</td>\n",
       "      <td>22923.0</td>\n",
       "      <td>1955.0</td>\n",
       "      <td>6333.0</td>\n",
       "    </tr>\n",
       "    <tr>\n",
       "      <td>1</td>\n",
       "      <td>관악구</td>\n",
       "      <td>22636.0</td>\n",
       "      <td>54551.0</td>\n",
       "      <td>6479.0</td>\n",
       "      <td>38369.0</td>\n",
       "    </tr>\n",
       "    <tr>\n",
       "      <td>2</td>\n",
       "      <td>전체 구 평균</td>\n",
       "      <td>13279.6</td>\n",
       "      <td>63130.1</td>\n",
       "      <td>4465.6</td>\n",
       "      <td>26901.8</td>\n",
       "    </tr>\n",
       "  </tbody>\n",
       "</table>\n",
       "</div>"
      ],
      "text/plain": [
       "     group     var1     var2    var3     var4\n",
       "0       중구   6364.0  22923.0  1955.0   6333.0\n",
       "1      관악구  22636.0  54551.0  6479.0  38369.0\n",
       "2  전체 구 평균  13279.6  63130.1  4465.6  26901.8"
      ]
     },
     "execution_count": 573,
     "metadata": {},
     "output_type": "execute_result"
    }
   ],
   "source": [
    "df_e_graph"
   ]
  },
  {
   "cell_type": "code",
   "execution_count": null,
   "metadata": {},
   "outputs": [],
   "source": []
  },
  {
   "cell_type": "code",
   "execution_count": null,
   "metadata": {},
   "outputs": [],
   "source": []
  },
  {
   "cell_type": "code",
   "execution_count": null,
   "metadata": {},
   "outputs": [],
   "source": []
  },
  {
   "cell_type": "code",
   "execution_count": 574,
   "metadata": {},
   "outputs": [
    {
     "data": {
      "text/plain": [
       "<matplotlib.legend.Legend at 0x167cccc3e08>"
      ]
     },
     "execution_count": 574,
     "metadata": {},
     "output_type": "execute_result"
    },
    {
     "data": {
      "image/png": "[encoded data removed]",
      "text/plain": [
       "<Figure size 432x288 with 1 Axes>"
      ]
     },
     "metadata": {},
     "output_type": "display_data"
    }
   ],
   "source": [
    "# Libraries\n",
    "import matplotlib.pyplot as plt\n",
    "import pandas as pd\n",
    "from math import pi\n",
    " \n",
    "# Set data\n",
    "df = pd.DataFrame({\n",
    "'group': ['A','B','C','D'],\n",
    "'var1': [38, 1.5, 30, 4],\n",
    "'var2': [29, 10, 9, 34],\n",
    "'var3': [8, 39, 23, 24],\n",
    "'var4': [7, 31, 33, 14],\n",
    "'var5': [28, 15, 32, 14]\n",
    "})\n",
    " \n",
    " \n",
    " \n",
    "# ------- PART 1: Create background\n",
    " \n",
    "# number of variable\n",
    "categories=list(df)[1:]\n",
    "N = len(categories)\n",
    " \n",
    "# What will be the angle of each axis in the plot? (we divide the plot / number of variable)\n",
    "angles = [n / float(N) * 2 * pi for n in range(N)]\n",
    "angles += angles[:1]\n",
    " \n",
    "# Initialise the spider plot\n",
    "ax = plt.subplot(111, polar=True)\n",
    " \n",
    "# If you want the first axis to be on top:\n",
    "ax.set_theta_offset(pi / 2)\n",
    "ax.set_theta_direction(-1)\n",
    " \n",
    "# Draw one axe per variable + add labels labels yet\n",
    "plt.xticks(angles[:-1], categories)\n",
    " \n",
    "# Draw ylabels\n",
    "ax.set_rlabel_position(0)\n",
    "plt.yticks([10,20,30], [\"10\",\"20\",\"30\"], color=\"grey\", size=7)\n",
    "plt.ylim(0,40)\n",
    " \n",
    " \n",
    "# ------- PART 2: Add plots\n",
    " \n",
    "# Plot each individual = each line of the data\n",
    "# I don't do a loop, because plotting more than 3 groups makes the chart unreadable\n",
    " \n",
    "# Ind1\n",
    "values=df.loc[0].drop('group').values.flatten().tolist()\n",
    "values += values[:1]\n",
    "ax.plot(angles, values, linewidth=1, linestyle='solid', label=\"group A\")\n",
    "ax.fill(angles, values, 'b', alpha=0.1)\n",
    " \n",
    "# Ind2\n",
    "values=df.loc[1].drop('group').values.flatten().tolist()\n",
    "values += values[:1]\n",
    "ax.plot(angles, values, linewidth=1, linestyle='solid', label=\"group B\")\n",
    "ax.fill(angles, values, 'r', alpha=0.1)\n",
    " \n",
    "# Add legend\n",
    "plt.legend(loc='upper right', bbox_to_anchor=(0.1, 0.1))\n"
   ]
  },
  {
   "cell_type": "code",
   "execution_count": 575,
   "metadata": {},
   "outputs": [
    {
     "data": {
      "text/html": [
       "<div>\n",
       "<style scoped>\n",
       "    .dataframe tbody tr th:only-of-type {\n",
       "        vertical-align: middle;\n",
       "    }\n",
       "\n",
       "    .dataframe tbody tr th {\n",
       "        vertical-align: top;\n",
       "    }\n",
       "\n",
       "    .dataframe thead th {\n",
       "        text-align: right;\n",
       "    }\n",
       "</style>\n",
       "<table border=\"1\" class=\"dataframe\">\n",
       "  <thead>\n",
       "    <tr style=\"text-align: right;\">\n",
       "      <th></th>\n",
       "      <th>group</th>\n",
       "      <th>var1</th>\n",
       "      <th>var2</th>\n",
       "      <th>var3</th>\n",
       "      <th>var4</th>\n",
       "      <th>var5</th>\n",
       "    </tr>\n",
       "  </thead>\n",
       "  <tbody>\n",
       "    <tr>\n",
       "      <td>0</td>\n",
       "      <td>A</td>\n",
       "      <td>38.0</td>\n",
       "      <td>29</td>\n",
       "      <td>8</td>\n",
       "      <td>7</td>\n",
       "      <td>28</td>\n",
       "    </tr>\n",
       "    <tr>\n",
       "      <td>1</td>\n",
       "      <td>B</td>\n",
       "      <td>1.5</td>\n",
       "      <td>10</td>\n",
       "      <td>39</td>\n",
       "      <td>31</td>\n",
       "      <td>15</td>\n",
       "    </tr>\n",
       "    <tr>\n",
       "      <td>2</td>\n",
       "      <td>C</td>\n",
       "      <td>30.0</td>\n",
       "      <td>9</td>\n",
       "      <td>23</td>\n",
       "      <td>33</td>\n",
       "      <td>32</td>\n",
       "    </tr>\n",
       "    <tr>\n",
       "      <td>3</td>\n",
       "      <td>D</td>\n",
       "      <td>4.0</td>\n",
       "      <td>34</td>\n",
       "      <td>24</td>\n",
       "      <td>14</td>\n",
       "      <td>14</td>\n",
       "    </tr>\n",
       "  </tbody>\n",
       "</table>\n",
       "</div>"
      ],
      "text/plain": [
       "  group  var1  var2  var3  var4  var5\n",
       "0     A  38.0    29     8     7    28\n",
       "1     B   1.5    10    39    31    15\n",
       "2     C  30.0     9    23    33    32\n",
       "3     D   4.0    34    24    14    14"
      ]
     },
     "execution_count": 575,
     "metadata": {},
     "output_type": "execute_result"
    }
   ],
   "source": [
    "df"
   ]
  },
  {
   "cell_type": "code",
   "execution_count": 576,
   "metadata": {},
   "outputs": [
    {
     "data": {
      "text/html": [
       "<div>\n",
       "<style scoped>\n",
       "    .dataframe tbody tr th:only-of-type {\n",
       "        vertical-align: middle;\n",
       "    }\n",
       "\n",
       "    .dataframe tbody tr th {\n",
       "        vertical-align: top;\n",
       "    }\n",
       "\n",
       "    .dataframe thead th {\n",
       "        text-align: right;\n",
       "    }\n",
       "</style>\n",
       "<table border=\"1\" class=\"dataframe\">\n",
       "  <thead>\n",
       "    <tr style=\"text-align: right;\">\n",
       "      <th></th>\n",
       "      <th>group</th>\n",
       "      <th>var1</th>\n",
       "      <th>var2</th>\n",
       "      <th>var3</th>\n",
       "      <th>var4</th>\n",
       "    </tr>\n",
       "  </thead>\n",
       "  <tbody>\n",
       "    <tr>\n",
       "      <td>0</td>\n",
       "      <td>중구</td>\n",
       "      <td>6364.0</td>\n",
       "      <td>22923.0</td>\n",
       "      <td>1955.0</td>\n",
       "      <td>6333.0</td>\n",
       "    </tr>\n",
       "    <tr>\n",
       "      <td>1</td>\n",
       "      <td>관악구</td>\n",
       "      <td>22636.0</td>\n",
       "      <td>54551.0</td>\n",
       "      <td>6479.0</td>\n",
       "      <td>38369.0</td>\n",
       "    </tr>\n",
       "    <tr>\n",
       "      <td>2</td>\n",
       "      <td>전체 구 평균</td>\n",
       "      <td>13279.6</td>\n",
       "      <td>63130.1</td>\n",
       "      <td>4465.6</td>\n",
       "      <td>26901.8</td>\n",
       "    </tr>\n",
       "  </tbody>\n",
       "</table>\n",
       "</div>"
      ],
      "text/plain": [
       "     group     var1     var2    var3     var4\n",
       "0       중구   6364.0  22923.0  1955.0   6333.0\n",
       "1      관악구  22636.0  54551.0  6479.0  38369.0\n",
       "2  전체 구 평균  13279.6  63130.1  4465.6  26901.8"
      ]
     },
     "execution_count": 576,
     "metadata": {},
     "output_type": "execute_result"
    }
   ],
   "source": [
    "df_e_graph"
   ]
  },
  {
   "cell_type": "code",
   "execution_count": null,
   "metadata": {},
   "outputs": [],
   "source": []
  }
 ],
 "metadata": {
  "kernelspec": {
   "display_name": "Python 3",
   "language": "python",
   "name": "python3"
  },
  "language_info": {
   "codemirror_mode": {
    "name": "ipython",
    "version": 3
   },
   "file_extension": ".py",
   "mimetype": "text/x-python",
   "name": "python",
   "nbconvert_exporter": "python",
   "pygments_lexer": "ipython3",
   "version": "3.7.4"
  }
 },
 "nbformat": 4,
 "nbformat_minor": 2
}
